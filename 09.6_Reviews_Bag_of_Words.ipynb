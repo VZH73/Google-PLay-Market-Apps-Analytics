{
 "cells": [
  {
   "cell_type": "code",
   "execution_count": null,
   "metadata": {},
   "outputs": [],
   "source": [
    "import pandas as pd\n",
    "import os\n",
    "from tqdm.auto import tqdm\n",
    "import collections"
   ]
  },
  {
   "cell_type": "code",
   "execution_count": null,
   "metadata": {},
   "outputs": [],
   "source": [
    "df_appId = pd.read_csv('Dataset//app_data_processed.csv', usecols=['appId'])"
   ]
  },
  {
   "cell_type": "code",
   "execution_count": null,
   "metadata": {},
   "outputs": [],
   "source": [
    "# Let's collect our lemmas into bag of words\n",
    "try:\n",
    "    while len(tqdm._instances) > 0:\n",
    "        tqdm._instances.pop().close()\n",
    "except:\n",
    "    pass\n",
    "\n",
    "dictionary = {}\n",
    "\n",
    "def text2bow(words):\n",
    "    word_frequences = collections.defaultdict(int)\n",
    "    for word in words:\n",
    "        if word not in dictionary:\n",
    "            dictionary[word] = len(dictionary)\n",
    "        word_frequences[dictionary[word]] += 1\n",
    " \n",
    "    return list(word_frequences.items())\n",
    "\n",
    "for app_Id in tqdm(list(df_appId['appId'])):\n",
    "        \n",
    "    file_from = ''.join(['ReviewsLemma//',appId,'.pkl'])\n",
    "    file_to = ''.join(['ReviewsBoW//',appId,'.pkl'])\n",
    "    if not os.path.exists(file_to):\n",
    "        if os.path.exists(file_from):\n",
    "            scores = pd.read_pickle(file_from)\n",
    "            scores['content'] = scores['content'].apply(text2bow)\n",
    "            scores.to_pickle(file_to)\n",
    "\n",
    "bow_dict = pd.DataFrame(dictionary.items())\n",
    "bow_dict.columns = ['word','id']\n",
    "bow_dict.to_pickle('Dataset//BoW_Dictionary.pkl')"
   ]
  }
 ],
 "metadata": {
  "kernelspec": {
   "display_name": "Python 3",
   "language": "python",
   "name": "python3"
  },
  "language_info": {
   "codemirror_mode": {
    "name": "ipython",
    "version": 3
   },
   "file_extension": ".py",
   "mimetype": "text/x-python",
   "name": "python",
   "nbconvert_exporter": "python",
   "pygments_lexer": "ipython3",
   "version": "3.7.4"
  }
 },
 "nbformat": 4,
 "nbformat_minor": 2
}
