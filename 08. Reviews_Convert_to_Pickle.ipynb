{
 "cells": [
  {
   "cell_type": "code",
   "execution_count": 1,
   "metadata": {},
   "outputs": [],
   "source": [
    "import pandas as pd\n",
    "import os\n",
    "from tqdm.auto import tqdm"
   ]
  },
  {
   "cell_type": "code",
   "execution_count": 2,
   "metadata": {},
   "outputs": [],
   "source": [
    "Data_Folder = 'Data'\n",
    "df_appId = pd.read_csv('{}\\\\{:02d}_app_data_processed.csv'.format(Data_Folder,8), usecols=['appId'])"
   ]
  },
  {
   "cell_type": "code",
   "execution_count": 3,
   "metadata": {},
   "outputs": [
    {
     "data": {
      "application/vnd.jupyter.widget-view+json": {
       "model_id": "7a6c8c8bd507473e8ae97695f146a7e5",
       "version_major": 2,
       "version_minor": 0
      },
      "text/plain": [
       "HBox(children=(FloatProgress(value=0.0, max=109923.0), HTML(value='')))"
      ]
     },
     "metadata": {},
     "output_type": "display_data"
    },
    {
     "name": "stdout",
     "output_type": "stream",
     "text": [
      "\n"
     ]
    }
   ],
   "source": [
    "# Data folder with user reviews has size 126Gb \n",
    "# It will be very difficult to operate with this data in future. \n",
    "# Let's store all reviews in another folder in python-native format 'pickle'\n",
    "# As a bonus, pickle will store datatypes for the columns\n",
    "for app_Id in tqdm(list(df_appId['appId'])):\n",
    "    try:        \n",
    "        file_from = ''.join([Data_Folder,'\\\\{:02d}_ReviewsCSV\\\\'.format(9),app_Id,'.csv'])\n",
    "        file_to = ''.join([Data_Folder,'\\\\{:02d}_ReviewsPKL\\\\'.format(13),app_Id,'.pkl'])\n",
    "        if os.path.exists(file_from):\n",
    "            if not os.path.exists(file_to):\n",
    "                reviews = pd.read_csv(file_from, \n",
    "                                      usecols=['at','content','repliedAt','score','thumbsUpCount'],\n",
    "                                      dtype = {'score':'int8','thumbsUpCount':'int8'},\n",
    "                                      parse_dates=['at','repliedAt']\n",
    "                                     )\n",
    "\n",
    "                reviews.to_pickle(file_to)\n",
    "    except:\n",
    "        continue\n"
   ]
  }
 ],
 "metadata": {
  "kernelspec": {
   "display_name": "Python 3",
   "language": "python",
   "name": "python3"
  },
  "language_info": {
   "codemirror_mode": {
    "name": "ipython",
    "version": 3
   },
   "file_extension": ".py",
   "mimetype": "text/x-python",
   "name": "python",
   "nbconvert_exporter": "python",
   "pygments_lexer": "ipython3",
   "version": "3.7.4"
  }
 },
 "nbformat": 4,
 "nbformat_minor": 2
}
