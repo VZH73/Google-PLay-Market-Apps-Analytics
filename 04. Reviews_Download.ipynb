{
 "cells": [
  {
   "cell_type": "markdown",
   "metadata": {},
   "source": [
    "# Web scrape user reviews for the list for the apps we've collected previously"
   ]
  },
  {
   "cell_type": "code",
   "execution_count": 1,
   "metadata": {},
   "outputs": [],
   "source": [
    "import os \n",
    "import time\n",
    "import pandas as pd\n",
    "from tqdm.auto import tqdm\n",
    "from google_play_scraper import Sort, reviews_all"
   ]
  },
  {
   "cell_type": "code",
   "execution_count": 2,
   "metadata": {},
   "outputs": [],
   "source": [
    "Data_Folder = 'Data'\n",
    "apps = pd.read_csv('{}\\\\{:02d}_app_data_processed.csv'.format(Data_Folder,8))[['appId','reviews']]"
   ]
  },
  {
   "cell_type": "code",
   "execution_count": 3,
   "metadata": {},
   "outputs": [
    {
     "data": {
      "application/vnd.jupyter.widget-view+json": {
       "model_id": "354e10ec8d0e40e59816606890817652",
       "version_major": 2,
       "version_minor": 0
      },
      "text/plain": [
       "HBox(children=(FloatProgress(value=0.0, max=109816.0), HTML(value='')))"
      ]
     },
     "metadata": {},
     "output_type": "display_data"
    },
    {
     "name": "stdout",
     "output_type": "stream",
     "text": [
      "Reading: zzz1zzz.tracktime                                            Reviews: 599.0                          .fetih.tevbe.zikirmatik.eve\n",
      "Done. Unsuccessfull reads: 4817\n"
     ]
    }
   ],
   "source": [
    "# Reset old instances of tqdm to make it work properly\n",
    "try:\n",
    "    while len(tqdm._instances) > 0:\n",
    "        tqdm._instances.pop().close()\n",
    "except: \n",
    "    pass\n",
    "\n",
    "unsuccessfull_reads = 0\n",
    "\n",
    "# Run through the list of app Ids and load all user reviews\n",
    "for app_Id in tqdm(list(apps[apps.reviews > 0].appId)):\n",
    "    file_to = ''.join([Data_Folder,'\\\\{:02d}_ReviewsCSV\\\\'.format(9),app_Id,'.csv'])\n",
    "    if os.path.exists(file_to):\n",
    "        print(\"Skipping: \" + app_Id + \" \" * (100 - len(app_Id)) ,end='\\r')\n",
    "    else:\n",
    "        try:\n",
    "            print(\"Reading: \" + (app_Id + \" \" * (128 - len(app_Id)))[:60] + \n",
    "                  \" Reviews: \" + str(apps[apps.appId == app_Id].reviews.values.item()) + \"    \"\n",
    "                  ,end='\\r')\n",
    "\n",
    "            df = pd.DataFrame(reviews_all(app_Id))\n",
    "            df.to_csv(file_to, index = False)\n",
    "        except:\n",
    "            unsuccessfull_reads += 1\n",
    "    \n",
    "print(\"Done. Unsuccessfull reads: {}\".format(str(unsuccessfull_reads)))"
   ]
  }
 ],
 "metadata": {
  "kernelspec": {
   "display_name": "Python 3",
   "language": "python",
   "name": "python3"
  },
  "language_info": {
   "codemirror_mode": {
    "name": "ipython",
    "version": 3
   },
   "file_extension": ".py",
   "mimetype": "text/x-python",
   "name": "python",
   "nbconvert_exporter": "python",
   "pygments_lexer": "ipython3",
   "version": "3.7.4"
  }
 },
 "nbformat": 4,
 "nbformat_minor": 2
}
