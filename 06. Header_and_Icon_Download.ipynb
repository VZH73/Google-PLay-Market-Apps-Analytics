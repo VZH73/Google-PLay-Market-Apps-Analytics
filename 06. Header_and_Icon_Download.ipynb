{
 "cells": [
  {
   "cell_type": "code",
   "execution_count": 1,
   "metadata": {},
   "outputs": [],
   "source": [
    "import requests\n",
    "import os \n",
    "from pathlib import Path\n",
    "import pandas as pd\n",
    "from tqdm.auto import tqdm"
   ]
  },
  {
   "cell_type": "code",
   "execution_count": 2,
   "metadata": {},
   "outputs": [],
   "source": [
    "df_appPic = pd.read_csv('Dataset//app_data_processed.csv')[['appId','headerImage','icon']]"
   ]
  },
  {
   "cell_type": "code",
   "execution_count": 3,
   "metadata": {},
   "outputs": [
    {
     "data": {
      "application/vnd.jupyter.widget-view+json": {
       "model_id": "10cadc6cafc24bd1bd6a51fcc18f9660",
       "version_major": 2,
       "version_minor": 0
      },
      "text/plain": [
       "HBox(children=(FloatProgress(value=0.0, max=109923.0), HTML(value='')))"
      ]
     },
     "metadata": {},
     "output_type": "display_data"
    },
    {
     "name": "stdout",
     "output_type": "stream",
     "text": [
      "\n"
     ]
    }
   ],
   "source": [
    "imgSource = ['headerImage','icon']\n",
    "\n",
    "# Run through the list of appIds and load corresponding header and icon image files into their respective folders\n",
    "for appId in tqdm(list(df_appPic['appId'])):\n",
    "    for src in imgSource:\n",
    "        \n",
    "        try:\n",
    "            fileName = os.path.join(src, appId + '.png')\n",
    "            f = Path(fileName)\n",
    "            if not f.is_file():\n",
    "                with open(fileName,'wb') as f:\n",
    "                    f.write(requests.get(df_appPic[df_appPic.appId == appId][src].values[0]).content)\n",
    "        except:\n",
    "            continue\n"
   ]
  }
 ],
 "metadata": {
  "kernelspec": {
   "display_name": "Python 3",
   "language": "python",
   "name": "python3"
  },
  "language_info": {
   "codemirror_mode": {
    "name": "ipython",
    "version": 3
   },
   "file_extension": ".py",
   "mimetype": "text/x-python",
   "name": "python",
   "nbconvert_exporter": "python",
   "pygments_lexer": "ipython3",
   "version": "3.7.4"
  }
 },
 "nbformat": 4,
 "nbformat_minor": 2
}
