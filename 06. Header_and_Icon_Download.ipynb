{
 "cells": [
  {
   "cell_type": "code",
   "execution_count": 2,
   "metadata": {},
   "outputs": [],
   "source": [
    "import requests\n",
    "import os \n",
    "from pathlib import Path\n",
    "import pandas as pd\n",
    "from tqdm.auto import tqdm"
   ]
  },
  {
   "cell_type": "code",
   "execution_count": 3,
   "metadata": {},
   "outputs": [],
   "source": [
    "Data_Folder = 'Data'\n",
    "df_appPic = pd.read_csv('{}\\\\{:02d}_app_data_processed.csv'.format(Data_Folder,8))[['appId','headerImage','icon']]"
   ]
  },
  {
   "cell_type": "code",
   "execution_count": 4,
   "metadata": {},
   "outputs": [
    {
     "data": {
      "application/vnd.jupyter.widget-view+json": {
       "model_id": "b87ba5b0b6544ddcb55af54c9c73ca0b",
       "version_major": 2,
       "version_minor": 0
      },
      "text/plain": [
       "HBox(children=(FloatProgress(value=0.0, max=109923.0), HTML(value='')))"
      ]
     },
     "metadata": {},
     "output_type": "display_data"
    },
    {
     "name": "stdout",
     "output_type": "stream",
     "text": [
      "\n"
     ]
    }
   ],
   "source": [
    "imgSource = [('headerImage','{}\\\\{:02d}_HeaderImages'.format(Data_Folder, 11)),\n",
    "             ('icon','{}\\\\{:02d}_Icons'.format(Data_Folder,12))]\n",
    "\n",
    "# Run through the list of appIds and load corresponding header and icon image files into their respective folders\n",
    "for appId in tqdm(list(df_appPic['appId'])):\n",
    "    for src in imgSource:\n",
    "        \n",
    "        try:\n",
    "            fileName = os.path.join(src[1], appId + '.png')\n",
    "            f = Path(fileName)\n",
    "            if not f.is_file():\n",
    "                with open(fileName,'wb') as f:\n",
    "                    f.write(requests.get(df_appPic[df_appPic.appId == appId][src[0]].values[0]).content)\n",
    "        except:\n",
    "            continue\n"
   ]
  },
  {
   "cell_type": "code",
   "execution_count": 8,
   "metadata": {},
   "outputs": [
    {
     "data": {
      "text/plain": [
       "'https://lh3.googleusercontent.com/_GFw3fT_Rm7k0XIfRHTcwnJmmVqUlnJiXycB2U6FnBXKEqqH-aGDrQStAODhp2yiZ-g'"
      ]
     },
     "execution_count": 8,
     "metadata": {},
     "output_type": "execute_result"
    }
   ],
   "source": [
    "df_appPic[df_appPic.appId == appId][src[0]].values[0]"
   ]
  }
 ],
 "metadata": {
  "kernelspec": {
   "display_name": "Python 3",
   "language": "python",
   "name": "python3"
  },
  "language_info": {
   "codemirror_mode": {
    "name": "ipython",
    "version": 3
   },
   "file_extension": ".py",
   "mimetype": "text/x-python",
   "name": "python",
   "nbconvert_exporter": "python",
   "pygments_lexer": "ipython3",
   "version": "3.7.4"
  }
 },
 "nbformat": 4,
 "nbformat_minor": 2
}
