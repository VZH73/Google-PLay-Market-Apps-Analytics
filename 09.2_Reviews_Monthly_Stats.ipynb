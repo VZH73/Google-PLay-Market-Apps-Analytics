{
 "cells": [
  {
   "cell_type": "code",
   "execution_count": null,
   "metadata": {},
   "outputs": [],
   "source": [
    "# Running through the list of appIds and making two datasets\n",
    "# First - with groupped by month values of \n",
    "# - Total number of reviews\n",
    "# - Number of developer replies\n",
    "# - Average rating\n",
    "# - Average rating derived from thumbsUp count and rating that was marked with thumb up\n",
    "# Second - with linear regression coefficients for the \n",
    "# 'reviews','rating' and 'thumbsUpRating'\n",
    "# Saving each into a separate csv file \n",
    "# The followinng notebook was made for this. We will use multi-thread to speed up the calculations"
   ]
  },
  {
   "cell_type": "code",
   "execution_count": 1,
   "metadata": {},
   "outputs": [],
   "source": [
    "def Get_LR_coef(X, y):\n",
    "    lr = LinearRegression()\n",
    "    lr.fit(X, y)\n",
    "    return lr\n"
   ]
  },
  {
   "cell_type": "code",
   "execution_count": 2,
   "metadata": {},
   "outputs": [],
   "source": [
    "def LR(app_idn):\n",
    "    df = df_score[df_score.id == app_idn]\n",
    "    # we do not consider apps with less than 10 reviews\n",
    "    if df.id.count() < 10:\n",
    "        return\n",
    "\n",
    "    if df.thumbsUpCount.sum() == 0:\n",
    "        return\n",
    "\n",
    "    per = df['at'].dt.to_period(\"M\")\n",
    "    \n",
    "    app_score = df.groupby(per).agg(reviews=('id','count'),\n",
    "                                     replies=('repliedAt','count'),\n",
    "                                     rating=('score','mean'),\n",
    "                                     thumbsUpScore=('thumbsUpScore','sum'),\n",
    "                                     thumbsUpCount=('thumbsUpCount','sum'))\n",
    "    app_score['thumbsUpRating'] = app_score['thumbsUpScore']/app_score['thumbsUpCount']\n",
    "    app_score['thumbsUpRating'].replace(np.inf,np.nan,inplace=True)\n",
    "    app_score['thumbsUpRating'].replace(-np.inf,np.nan,inplace=True)\n",
    "    app_score['thumbsUpRating'] = app_score['thumbsUpRating'].fillna(np.mean(app_score['thumbsUpRating']))\n",
    "    app_score = app_score[['reviews','replies','rating','thumbsUpRating']]\n",
    "    app_score['id'] = app_idn\n",
    "    app_score = app_score.reset_index()\n",
    "    \n",
    "    monthly_score.append(app_score)\n",
    "    \n",
    "    X = app_score['at'].dt.to_timestamp().map(datetime.toordinal).to_frame(name='at')\n",
    "\n",
    "    score = {}\n",
    "    score['id'] = app_idn\n",
    "    for nm in ['thumbsUpRating', 'reviews', 'rating']:\n",
    "        y = app_score[nm]\n",
    "        lr = Get_LR_coef(X, y)\n",
    "        score[nm] = lr.coef_[0]\n",
    "\n",
    "    score_trends.append(score)\n",
    "\n",
    "    return \n"
   ]
  },
  {
   "cell_type": "code",
   "execution_count": 3,
   "metadata": {},
   "outputs": [
    {
     "name": "stdout",
     "output_type": "stream",
     "text": [
      "Going to Thread!\n",
      "In Worker Class\n",
      "Going to Thread!\n",
      "In Worker Class\n",
      "Going to Thread!\n",
      "In Worker Class\n",
      "Going to Thread!\n",
      "In Worker Class\n",
      "Going to Thread!\n",
      "In Worker Class\n",
      "Going to Thread!\n",
      "In Worker Class\n",
      "Going to Thread!\n",
      "In Worker Class\n",
      "Going to Thread!\n",
      "In Worker Class\n",
      "Going to Thread!\n",
      "In Worker Class\n",
      "Going to Thread!\n",
      "In Worker Class\n",
      "Donead: Thread-10. App: 109922. Apps left: 0    \n"
     ]
    }
   ],
   "source": [
    "import queue\n",
    "import threading\n",
    "from threading import Lock\n",
    "\n",
    "# Trick to print while multithreading\n",
    "print_lock = Lock()\n",
    "def safe_print(*args, **kwargs):\n",
    "    with print_lock:\n",
    "        print(*args, **kwargs)\n",
    "\n",
    "import pandas as pd\n",
    "import numpy as np\n",
    "from datetime import datetime\n",
    "\n",
    "from sklearn.linear_model import LinearRegression\n",
    "import statsmodels.formula.api as smf\n",
    "\n",
    "class Worker(threading.Thread):\n",
    "    def __init__(self,q):\n",
    "        threading.Thread.__init__(self)\n",
    "        self.q=q\n",
    "    def run(self):\n",
    "        safe_print('In Worker Class {}'.format(self.name))\n",
    "        while True:\n",
    "            app_idn=self.q.get()\n",
    "            safe_print('Thread: {}. App: {}. Apps left: {} '.format(self.name, app_idn, q.qsize()), end='\\r')\n",
    "            LR(app_idn)\n",
    "            self.q.task_done()\n",
    "            \n",
    "score_trends = []\n",
    "monthly_score = []\n",
    "\n",
    "q = queue.Queue()\n",
    "Data_Folder = 'Data'\n",
    "df_score = pd.read_pickle('{}\\\\{:02d}_app_all_review_scores.pkl'.format(Data_Folder,15))\n",
    "df_score['thumbsUpScore'] = df_score['thumbsUpCount'] * df_score['score']\n",
    "\n",
    "# Ten worker threads should be enough for parallellizm\n",
    "for i in range(10):\n",
    "    worker=Worker(q)\n",
    "    safe_print('Going to Thread {}'.format(i))\n",
    "    worker.daemon=True\n",
    "    worker.start()\n",
    "    \n",
    "for app_idn in df_score.id.unique():\n",
    "    q.put(app_idn)\n",
    "    \n",
    "q.join()\n",
    "print('\\n')\n",
    "print('Done')"
   ]
  },
  {
   "cell_type": "code",
   "execution_count": 6,
   "metadata": {},
   "outputs": [],
   "source": [
    "monthly_score_df = pd.concat(monthly_score, ignore_index=True)"
   ]
  },
  {
   "cell_type": "code",
   "execution_count": 7,
   "metadata": {},
   "outputs": [
    {
     "name": "stdout",
     "output_type": "stream",
     "text": [
      "Done\n"
     ]
    }
   ],
   "source": [
    "monthly_score_df.to_csv('{}\\\\{:02d}_app_score_monthly.csv'.format(Data_Folder,16),\n",
    "                       columns=['id', 'at', 'reviews', 'replies', 'rating', 'thumbsUpRating'],\n",
    "                       index=False,\n",
    "                       header=True,\n",
    "                       mode='w')\n",
    "\n",
    "score_trends_df = pd.DataFrame(score_trends)\n",
    "score_trends_df.to_csv('{}\\\\{:02d}_app_score_trends.csv'.format(Data_Folder,17), index=False, header=True, mode='w')\n",
    "print(\"Done\")\n"
   ]
  }
 ],
 "metadata": {
  "kernelspec": {
   "display_name": "Python 3",
   "language": "python",
   "name": "python3"
  },
  "language_info": {
   "codemirror_mode": {
    "name": "ipython",
    "version": 3
   },
   "file_extension": ".py",
   "mimetype": "text/x-python",
   "name": "python",
   "nbconvert_exporter": "python",
   "pygments_lexer": "ipython3",
   "version": "3.7.4"
  }
 },
 "nbformat": 4,
 "nbformat_minor": 2
}
