{
 "cells": [
  {
   "cell_type": "code",
   "execution_count": null,
   "metadata": {},
   "outputs": [],
   "source": [
    "import json\n",
    "import os\n",
    "import io"
   ]
  },
  {
   "cell_type": "code",
   "execution_count": 5,
   "metadata": {},
   "outputs": [],
   "source": [
    "JSON_File = 'Scrapped//GPA_Final_App_Data.json'\n",
    "\n",
    "def Load_Json(file_name):\n",
    "    data_dict = []\n",
    "    if os.path.exists(file_name):\n",
    "        with io.open(file_name, encoding='utf8') as data_file:\n",
    "            data_dict = json.load(data_file)\n",
    "    return data_dict"
   ]
  },
  {
   "cell_type": "code",
   "execution_count": 6,
   "metadata": {},
   "outputs": [],
   "source": [
    "# Load JSON file into dictionnary\n",
    "app_data = Load_Json(JSON_File)"
   ]
  },
  {
   "cell_type": "code",
   "execution_count": 7,
   "metadata": {},
   "outputs": [
    {
     "data": {
      "text/plain": [
       "123460"
      ]
     },
     "execution_count": 7,
     "metadata": {},
     "output_type": "execute_result"
    }
   ],
   "source": [
    "# Number of scrapped apps \n",
    "len(app_data)"
   ]
  },
  {
   "cell_type": "code",
   "execution_count": 8,
   "metadata": {},
   "outputs": [
    {
     "data": {
      "text/plain": [
       "{'adSupported': True,\n",
       " 'androidVersion': '4.0.3',\n",
       " 'androidVersionText': '4.0.3 and up',\n",
       " 'appId': 'AutomateIt.mainPackage',\n",
       " 'comments': [\"App has always been a little glitchy, but its usefulness outbalanced that until recently. I've never gotten a response from support from the handful of times I've emailed them about issues over the past few years, but I've generally been able to figure out solutions on my own. Now the app isn't working at all, and since I can't fix it this time, lack of support means the app is now useless.\",\n",
       "  \"Very limited app but with potential. Simple triggers only. No between one time and another time trigger, one of the most useful triggers but not in this app. Time triggers only operate at the exact time they are set for which makes them pretty limited in their usefulness. No ability to prioritize phone numbers that will ring when silent mode is selected, eg when a family member rings. MacroDroid is considerably more advanced. I'm a normal user with no association to any app developer.\",\n",
       "  'All i want is to mute sound when i am not on my home wifi. No app is capable of this. I set up the rules of this app to do just that. It is very inconsistent, to the point that i am not sure if it even works. It definitely did not work today, because i had to turn my volume off myself when i got to work.',\n",
       "  \"Great potential & I want to love this app, but lack of support is frustrating. I can't use the market to get new tasks because it says I don't have a Google account (I do, obviously) & can't register on the forums either. No response to email support queries, so I'm glad I didn't buy Pro. At least the one simple task I created works.\",\n",
       "  'This app looks so much like \"Automated Device\" app (removed by Dev) but it yet misses some of the good approaches the other app had. Is it possible to set many actions for one trigger? As in set volume and play sounds or speak. Otherwise it\\'s not reliable. What happens when volume is zero? It won\\'t work. Another example: at night, set mute, turn music very low to avoid ads and dim the screen to 20% Exceptions to rules? At x time do z, except Chrome is in foreground. Complex rules? Monday to Friday at 22h and weekends at 00 do z. Or even better: if date and time xx and WiFi on and YouTube running do z. I thought I could use this app but it is too basic if those things aren\\'t present. I need things like those to really have a smart phone instead of a dumb one xD',\n",
       "  \"DEAD APP! Our Samsung S9+ phones updated to Android 9 and everything stopped working. All my permissions were right and we have used this app for several years. Tried to email support a couple weeks ago and they do not respond. Their webpage hasn't been updated in several years. I installed Macrodroid which does the same things and works good.\",\n",
       "  'works really well for simple tasks. makes things kinda difficult for anythig complicated, would make things a lot easier if we had \"AND NOT\" \"Triggers\" to prevent a task being triggered if you need something to only launch under a couple of conditions. the repeat trigger is a great example, i have had to make a separate task to disable the rule at a certain time because otherwise it will repeat forever',\n",
       "  \"I have used this app for years with a Samsung Galaxy Note 3, 4 the exploding 7 and 8 and it always performed well. However with my recent upgrade to the note 10 plus this app caused my device to overheat the battery and cause the phone to constantly reboot. I narrowed it down to this app.So I had to uninstall it. very sad about this because I've used used this for years. But Samsung now has routines built into their platform so I no longer need the app. Maybe it was for the best.\",\n",
       "  \"To everyone saying that the app doesn't work anymore. in the app, click support and it has a popup telling you how to make it work again. I just went into settings, apps, found it, clicked permissions, gave it access to everything and now it works again. Just fyi, it's still awesome and it took like 2 minutes to do.\",\n",
       "  \"the app used to work really well, but since recent updates the location triggers don't work anymore. Those were the best things about this app, so it's much less valuable now. Also, unless you keep the service icon in your notification bar, the app is quite unreliable.\",\n",
       "  'installed for one purpose only: to automate night mute and morning unmute of my speaker. did not work at first, but later the app asked for the necessary permission to access the speaker, and I am a happy camper. persons more clever than I (of whom there are millions) will probably be able to make this app produce all kinds of magic trivks if you are wondering how the developers hope to gain compensation, they are apparently banking on a future in which you can purchase routines to run in the ap',\n",
       "  \"I like the idea and wanted to like it, but Automagic works so much better for me. I had tried to use Tasker, but that was so difficult that I tried  Lama, and IFTTT, and AutomateIt. When I found Automagic, I knew it was just what I wanted: it's graphical interface is brilliant—intuitive to use and so powerful, that I paid for pro a couple years ago and never looked back.\",\n",
       "  \"Remind 2 self: Glad I read the reviews, now I don't want to update lol. Update might disable our rules as of 3.8.19. P. S I only use this app for airplane and wifi combo activation. It's the only fix I found to stop my phone from draining the battery when left overnight because of the cell radio being weak from t-mobile.\",\n",
       "  \"After last update, won't start on boot therefore now worthless. claims has no permissions to modify settings, but has all permissions requested. uninstalled and reinstalled, no change. Dev unresponsive to emails. really bad as this app was so good for so long. time to find something else now.\",\n",
       "  'Enjoyed this app for 2+ years (thus the extra star), but it sadly does not function on Android 9 (rules can no longer execute at all; it just spams error notifications). With no word from the developers since that was released... it appears to be abandonware.',\n",
       "  'This app worked great for a few weeks. Until this past week location triggers were accurate and reliable as I was running on a traditional router for wifi. Once I switched to a mesh network for wifi the app locates me 7 miles away and back home within minutes repeatedly turning my wifi and Bluetooth off and on. After reboot, reinstall and delete rules and recreate its the same. Once I stop this app everything goes back to normal. Wrote support and weeks later no reply so uninstalling and give a suitable rating',\n",
       "  'Extremely easy to use and very robust free version, have not needed to buy any of the extras and it does what I need it to',\n",
       "  \"Doesn't launch apps anymore. Example: connected to Bluetooth headset, launch Spotify. Used to work, but stopped some months ago.\",\n",
       "  'Used to love this app. But in Android 10 you can no longer launch shortcuts within rules. Only when they are manually triggered do shortcuts work.',\n",
       "  'Galaxy S9 - Latest update has all programmed actions fail. The app still has required permissions. This seems to be due to the most recent update. Still rating 5 stars as I figure this problem will be fixed and I think this is one of the best apps out there.',\n",
       "  'Won\\'t let me register because it states that \"no Google account is found\", despite being downloaded from the app store with my Google account, and won\\'t let me manually enter my account. So I\\'m left with a useless app that won\\'t allow me to upgrade.',\n",
       "  'Has been a very useful app. However, it needs a little improvement in terms of the available actions. For example it needs a turn off application action. You can only turn on applications. I might be wrong but have not been able to find such an action. Also, could add a toggle airplane mode rule.',\n",
       "  'Email Trigger not working, i couldnt see any labels to select, please give me a solution.',\n",
       "  \"Edit: It's working now exactly as intended. Not sure if an update to my phone's OS or an update to the app originally broke it, but super happy it's been working for the last few months. I have even added more rules. Right now just using it for simple things like putting phone on Vibrate when I get to work and Regular mode when I leave, making sure when I get home it's switches to Regular mode in case I silence it for a movie or something and forget to unmute it.\",\n",
       "  \"doesn't work as well since Pie update. i have a rule that sets my phone to go silent from 10p - 5:45a. it no longer goes silent at night. fix this please and it'll go back to being my app of choice because right now, I'm looking at others.\",\n",
       "  \"Rules market registration does not work. Bug report feature does not work. I was able to send an email to the developer reporting the issue but have not received a response after 5 days. The app appears to be abandoned and unsupported. Don't waste your time downloading it.\",\n",
       "  \"Just wanted to say thanks. When I first installed years back this did a few things really nicely. Wi-Fi on when you get home. Screen timer longer in certain apps. But I just realised I don't have a use for it anymore. So thanks, and goodbye.\",\n",
       "  'Great app, but the terrible working recurring triggers is smashing all the goodies. Event that should triggers every hour is triggering up to few times a minute, depends on activity. For example some actions in Google Play are trigger the event that already triggered few seconds ago.',\n",
       "  'Set time trigger, motion trigger, and location trigger. Worked flawlessly until the most recent update. Now nothing works. I tried uninstalling and reinstalling, deleting and re-adding, nothing works. Uninstalled.',\n",
       "  \"It used to be reliable. I have it set to turn of and off my sounds. Now since the last few updates it has been unreliable. Sometimes it won't turn off my ringing and other it won't turn it back on\",\n",
       "  'Incredibly easy to use and actually works! Make sure the app launch is set to auto open in background your phone settings first.',\n",
       "  'Loved this app so much I paid for the pro version. That is until Android 10 broke the sensor functions. There probably nothing this app developer can do until Google fixes 10. Which makes me sad as it is labeled as a Priority 2 fix (Priority 0 is the highest).',\n",
       "  \"Useless without registration, and can't register without permitting the app to see my contacts. Unusable, so uninstalled. Please fix the registration process and get rid of the idiotic points system.\",\n",
       "  \"I've used this for years but it has gone downhill massively. Timed triggers that used to work no problem now fire at random times and in some cases not at all. This app is now unreliable so I'd advise to look elsewhere.\",\n",
       "  'Wifi networks not listed in app to allow creating a trigger rule. Sent report to developers but no reply after a week. Disappointed',\n",
       "  \"Excellent app, pity it doesn't have any support. Can't even register to login to the forum. All support queries remain unanswered. Why even bother to upgrade to Pro version if there is no support! Disappointed 😥\",\n",
       "  \"Great app. Just reporting a bug : Wifi network connection state trigger does not let me choose a specific wifi network. Only option available is 'any network'.\",\n",
       "  'The \"Target Wi-Fi State\" doesn\\'t work on Realme 5 Pro, please fix it :\\'(',\n",
       "  'Good App, it was working great. I am not sure for some reason the rules are not automatically triggering.. I have to open the app, then the rule runs... Please help',\n",
       "  \"Very handy. Unfortunately it has less and less features since many years ago. It's due Android restrictions but other similar app have others. Please do the same.\"],\n",
       " 'containsAds': True,\n",
       " 'contentRating': 'Everyone',\n",
       " 'contentRatingDescription': None,\n",
       " 'currency': 'USD',\n",
       " 'description': 'AutomateIt is designed to make your life easier by automating various tasks on your Android smartphone or tablet.\\r\\n\\r\\nDefine a set of your desired behaviors in response to events on your Android device.\\r\\nEach behavior/rule is defined as a pair of Trigger-Action listed below.\\r\\n\\r\\n\"If you need your phone to adopt some autonomy, you can’t go wrong here\" - www.androidpolice.com\\r\\n\"sometimes I’d like my phone to do stuff all on its own. It’s an Android after all\" - www.androidapps.com\\r\\n\"AutomateIt Is a Simple and Free Android Automation Tool\" - www.lifehacker.com\\r\\n\"It\\'s truly an amazing app\" - www.androidpit.com\\r\\n\\r\\nAutomateIt provides a default set of useful rules to get you started:\\r\\nLow battery warning\\r\\nQuiet at night\\r\\nNormal sound mode at morning\\r\\nMax volume when headset unplugged\\r\\nLower volume when headset plugged\\r\\nUnmute by SMS\\r\\n\\r\\nTriggers:\\r\\n• Any SMS Trigger - Triggers on SMS received\\r\\n• SMS With Text Trigger - Triggers on receipt of SMS Message with a specific text\\r\\n• Battery Level Trigger - Triggers on a defined battery level\\r\\n• Bluetooth State Enabled/Disabled\\r\\n• Bluetooth Device Connected - Any device or specific device\\r\\n• Incoming/Hang Call - Any call or from a specific contact\\r\\n• Headset Plugged/Unplugged Trigger\\r\\n• Location Trigger - Arriving/Exiting a defined region\\r\\n• External Power Connected/Disconnected\\r\\n• Screen On/Off\\r\\n• Wi-Fi Enabled/Disabled\\r\\n• Connected to Wi-Fi network - Any network or a specific network\\r\\n• Time Trigger - recurring time events\\r\\n• GPS Enabled Changed - GPS Activated/Deactivated and started/stopped looking for current location\\r\\n• SMS from contact\\r\\n• USB Connected/Disconnected Trigger\\r\\n• Airplane Mode Activated/Deactivated\\r\\n• Dock State Trigger - Docked to Car/Desk\\r\\n• Application Status Trigger - Triggers when selected application activated or deactivated\\r\\n• Outgoing call - all calls or calling specific contact\\r\\n• Sound Mode Changed to Silent/Vibrate/Normal\\r\\n• Boot Trigger - triggers on device startup (assuming service starts on boot)\\r\\n• Manual Trigger - Requires user explicit execution of this trigger\\r\\n• Cell ID Trigger - Trigger when connecting or disconnecting from defined cellular cells\\r\\n• NFC Trigger - use NFC tags to launch rules\\r\\n• Weather Trigger - Monitor weather at your location\\r\\n• Mobile Data State Trigger\\r\\n• Activity Recognition - an EXPERIMENTAL trigger that detects when you are in a car, on a bicycle, on foot or standing still\\r\\n\\r\\nActions:\\r\\n• Notification - Shows notification on notification bar\\r\\n• Play Sound - Plays selected sound\\r\\n• Set Bluetooth State - Enabled/Disabled\\r\\n• Set Sound Mode - Silent / Vibrate / Normal (With/Without Vibrate)\\r\\n• Set Speakerphone State - Turn on/off\\r\\n• Set Volume - Sets volume of all streams or a specific stream\\r\\n• Set Wi-Fi Adapter State - Enabled/Disabled\\r\\n• Start Application\\r\\n• Enable/Disable other rules\\r\\n• Vibrate action\\r\\n• Enable/Disable Data Connectivity action - [NOT supported on some devices - see why on developer website]\\r\\n• Kill Application [Requires Root - see why on developer website]\\r\\n• Launch Home Screen\\r\\n• Activate/Deactivate Airplane mode [Supported for Android version prior to 4.2 and all rooted devices]\\r\\n• Enable/Disable GPS [Supported for Android version prior to 2.3 and all rooted devices]\\r\\n• Enable/Disable Sync\\r\\n• Set Mobile Data - Enable/Disable Mobile Data\\r\\n• Set Screen Brightness - Automatic or specific value\\r\\n• Enable/Disable screen automatic rotation\\r\\n• Dial Phone Number\\r\\n• Send SMS to phone number\\r\\n• Set screen timeout (Including \"Never\" turn off)\\r\\n• Shutdown device [Requires Root]\\r\\n• Text-to-Speech - Say defined text\\r\\n• Reboot [Requires Root]\\r\\n• Set Wallpaper - set your home screen wallpaper\\r\\n\\r\\nWant to AutomateIt with your own language? visit http://goo.gl/qpDoI.\\r\\nSupports English, German, Spanish, Hebrew, Polish, Danish, French, Italian, Czech, Slovak, Romanian, Chinese, Hungarian, Portuguese, Japanese, Korean, Dutch and Russian',\n",
       " 'descriptionHTML': 'AutomateIt is designed to make your life easier by automating various tasks on your Android smartphone or tablet.<br><br>Define a set of your desired behaviors in response to events on your Android device.<br>Each behavior/rule is defined as a pair of Trigger-Action listed below.<br><br>&quot;If you need your phone to adopt some autonomy, you can’t go wrong here&quot; - www.androidpolice.com<br>&quot;sometimes I’d like my phone to do stuff all on its own. It’s an Android after all&quot; - www.androidapps.com<br>&quot;AutomateIt Is a Simple and Free Android Automation Tool&quot; - www.lifehacker.com<br>&quot;It&#39;s truly an amazing app&quot; - www.androidpit.com<br><br>AutomateIt provides a default set of useful rules to get you started:<br>Low battery warning<br>Quiet at night<br>Normal sound mode at morning<br>Max volume when headset unplugged<br>Lower volume when headset plugged<br>Unmute by SMS<br><br>Triggers:<br>• Any SMS Trigger - Triggers on SMS received<br>• SMS With Text Trigger - Triggers on receipt of SMS Message with a specific text<br>• Battery Level Trigger - Triggers on a defined battery level<br>• Bluetooth State Enabled/Disabled<br>• Bluetooth Device Connected - Any device or specific device<br>• Incoming/Hang Call - Any call or from a specific contact<br>• Headset Plugged/Unplugged Trigger<br>• Location Trigger - Arriving/Exiting a defined region<br>• External Power Connected/Disconnected<br>• Screen On/Off<br>• Wi-Fi Enabled/Disabled<br>• Connected to Wi-Fi network - Any network or a specific network<br>• Time Trigger - recurring time events<br>• GPS Enabled Changed - GPS Activated/Deactivated and started/stopped looking for current location<br>• SMS from contact<br>• USB Connected/Disconnected Trigger<br>• Airplane Mode Activated/Deactivated<br>• Dock State Trigger - Docked to Car/Desk<br>• Application Status Trigger - Triggers when selected application activated or deactivated<br>• Outgoing call - all calls or calling specific contact<br>• Sound Mode Changed to Silent/Vibrate/Normal<br>• Boot Trigger - triggers on device startup (assuming service starts on boot)<br>• Manual Trigger - Requires user explicit execution of this trigger<br>• Cell ID Trigger - Trigger when connecting or disconnecting from defined cellular cells<br>• NFC Trigger - use NFC tags to launch rules<br>• Weather Trigger - Monitor weather at your location<br>• Mobile Data State Trigger<br>• Activity Recognition - an EXPERIMENTAL trigger that detects when you are in a car, on a bicycle, on foot or standing still<br><br>Actions:<br>• Notification - Shows notification on notification bar<br>• Play Sound - Plays selected sound<br>• Set Bluetooth State - Enabled/Disabled<br>• Set Sound Mode - Silent / Vibrate / Normal (With/Without Vibrate)<br>• Set Speakerphone State - Turn on/off<br>• Set Volume - Sets volume of all streams or a specific stream<br>• Set Wi-Fi Adapter State - Enabled/Disabled<br>• Start Application<br>• Enable/Disable other rules<br>• Vibrate action<br>• Enable/Disable Data Connectivity action - [NOT supported on some devices - see why on developer website]<br>• Kill Application [Requires Root - see why on developer website]<br>• Launch Home Screen<br>• Activate/Deactivate Airplane mode [Supported for Android version prior to 4.2 and all rooted devices]<br>• Enable/Disable GPS [Supported for Android version prior to 2.3 and all rooted devices]<br>• Enable/Disable Sync<br>• Set Mobile Data - Enable/Disable Mobile Data<br>• Set Screen Brightness - Automatic or specific value<br>• Enable/Disable screen automatic rotation<br>• Dial Phone Number<br>• Send SMS to phone number<br>• Set screen timeout (Including &quot;Never&quot; turn off)<br>• Shutdown device [Requires Root]<br>• Text-to-Speech - Say defined text<br>• Reboot [Requires Root]<br>• Set Wallpaper - set your home screen wallpaper<br><br>Want to AutomateIt with your own language? visit http://goo.gl/qpDoI.<br>Supports English, German, Spanish, Hebrew, Polish, Danish, French, Italian, Czech, Slovak, Romanian, Chinese, Hungarian, Portuguese, Japanese, Korean, Dutch and Russian',\n",
       " 'developer': 'SmarterApps Ltd',\n",
       " 'developerAddress': 'Petah-Tikva, Israel',\n",
       " 'developerEmail': 'support@automateitapp.com',\n",
       " 'developerId': '8202756898217994038',\n",
       " 'developerInternalID': '8202756898217994038',\n",
       " 'developerWebsite': 'http://automateitapp.com',\n",
       " 'free': True,\n",
       " 'genre': 'Productivity',\n",
       " 'genreId': 'PRODUCTIVITY',\n",
       " 'headerImage': 'https://lh3.googleusercontent.com/fmgYVgTZTl5MiwsHdl9fE7qdsW1bi5I3sBJk11bllLL5XQnC3Anxo40IBq0KdEQxlvI',\n",
       " 'histogram': [2801, 1254, 1826, 2319, 6935],\n",
       " 'icon': 'https://lh3.googleusercontent.com/AX5i8AxpkNAcaRCTAeBhogtRfy5BsgazxdRkJcsNAded9ffGoxUXQcKso13qS_Nx14g',\n",
       " 'installs': '1,000,000+',\n",
       " 'minInstalls': 1000000,\n",
       " 'offersIAP': True,\n",
       " 'originalPrice': None,\n",
       " 'price': 0,\n",
       " 'privacyPolicy': 'https://automateitapp.com/privacy-policy/',\n",
       " 'ratings': 15138,\n",
       " 'recentChanges': None,\n",
       " 'recentChangesHTML': None,\n",
       " 'released': 'Feb 4, 2011',\n",
       " 'reviews': 6161,\n",
       " 'sale': False,\n",
       " 'saleText': None,\n",
       " 'saleTime': None,\n",
       " 'score': 3.6165802,\n",
       " 'screenshots': ['https://lh3.googleusercontent.com/K9y27QwA87js_rxvj9eTMR1psN8CRceuuFKpBJTb03f6PP6CVSVgN3YL5Flq_wH-mfU',\n",
       "  'https://lh3.googleusercontent.com/RDo97gBifZ6xP0e8mBmoZEwUSF3bfTseuE-b3x17wiUr6pIVRuVzOeH6YNAx0_NGaxs',\n",
       "  'https://lh3.googleusercontent.com/CiMiMmtLYVPuH85YGy24p5UnNzYYqY4gx4SIs8fIkQ7HfWeS0jOE3651ZSdNpb4PYQ',\n",
       "  'https://lh3.googleusercontent.com/GtS_ySii8s34f6HI87uDVc787b8u7N4B19U0mWeY9PZ4ZYTNYAnTKC8B9wZwcisoOw',\n",
       "  'https://lh3.googleusercontent.com/TG7shPkSRkm5VIPVXkWk0F3QM0aoUuJxDRtUihBw5a05boug4tbB9uyVR5QVdvnP91c',\n",
       "  'https://lh3.googleusercontent.com/wTBhLRR5F_kkD8zvqVLLUFEoaUa_rDwSs-pmourhX87odkLBLiOL18OLwPSDu2E2tA',\n",
       "  'https://lh3.googleusercontent.com/l8FjhU76fv13gmS98qyZIrj1pHPca65W9ujhmUS0dyHRUAJO6OwcvtX5e7Q6KsZLi68',\n",
       "  'https://lh3.googleusercontent.com/75dVWPNKwtT_nEqwnek2vuQhb6fO9bid2LWuTr7zqOpmW-fIID5hdCEThPLa6LQUAQ',\n",
       "  'https://lh3.googleusercontent.com/4TFAUgZI5LS5udSp4te1wVihQZRG57ZnUjN9XV3PezKGrwc_DANj0yWKkm8misHM1ZRX'],\n",
       " 'size': '23M',\n",
       " 'summary': 'Automatically launch tasks by location, SMS, battery level, wifi, calls and more',\n",
       " 'summaryHTML': 'Automatically launch tasks by location, SMS, battery level, wifi, calls and more',\n",
       " 'title': 'AutomateIt - Automate tasks, save battery and more',\n",
       " 'updated': 1558505777,\n",
       " 'url': 'https://play.google.com/store/apps/details?id=AutomateIt.mainPackage&hl=en&gl=us',\n",
       " 'version': '3.0.241',\n",
       " 'video': 'https://www.youtube.com/embed/hfnguZ2XMMM?ps=play&vq=large&rel=0&autohide=1&showinfo=0',\n",
       " 'videoImage': 'https://i.ytimg.com/vi/hfnguZ2XMMM/hqdefault.jpg'}"
      ]
     },
     "execution_count": 8,
     "metadata": {},
     "output_type": "execute_result"
    }
   ],
   "source": [
    "# Example of the data to look at at it\n",
    "first_app = app_data[list(app_data.keys())[0]]\n",
    "first_app"
   ]
  },
  {
   "cell_type": "code",
   "execution_count": 9,
   "metadata": {},
   "outputs": [],
   "source": [
    "# Check available features of the apps and store their type\n",
    "features = {}\n",
    "\n",
    "for _, app in app_data.items():\n",
    "    for f in app.items():\n",
    "        # Do not add empty features as their data type is not defined \n",
    "        if f[1] != None:\n",
    "            features[f[0]] = str(type(f[1]))"
   ]
  },
  {
   "cell_type": "code",
   "execution_count": 10,
   "metadata": {
    "scrolled": true
   },
   "outputs": [
    {
     "name": "stdout",
     "output_type": "stream",
     "text": [
      "adSupported <class 'bool'>\n",
      "androidVersion <class 'str'>\n",
      "androidVersionText <class 'str'>\n",
      "appId <class 'str'>\n",
      "comments <class 'list'>\n",
      "containsAds <class 'bool'>\n",
      "contentRating <class 'str'>\n",
      "contentRatingDescription <class 'str'>\n",
      "currency <class 'str'>\n",
      "description <class 'str'>\n",
      "descriptionHTML <class 'str'>\n",
      "developer <class 'str'>\n",
      "developerAddress <class 'str'>\n",
      "developerEmail <class 'str'>\n",
      "developerId <class 'str'>\n",
      "developerInternalID <class 'str'>\n",
      "developerWebsite <class 'str'>\n",
      "free <class 'bool'>\n",
      "genre <class 'str'>\n",
      "genreId <class 'str'>\n",
      "headerImage <class 'str'>\n",
      "histogram <class 'list'>\n",
      "icon <class 'str'>\n",
      "installs <class 'str'>\n",
      "minInstalls <class 'int'>\n",
      "offersIAP <class 'bool'>\n",
      "originalPrice <class 'float'>\n",
      "price <class 'int'>\n",
      "privacyPolicy <class 'str'>\n",
      "ratings <class 'int'>\n",
      "recentChanges <class 'str'>\n",
      "recentChangesHTML <class 'str'>\n",
      "released <class 'str'>\n",
      "reviews <class 'int'>\n",
      "sale <class 'bool'>\n",
      "saleText <class 'str'>\n",
      "saleTime <class 'int'>\n",
      "score <class 'float'>\n",
      "screenshots <class 'list'>\n",
      "size <class 'str'>\n",
      "summary <class 'str'>\n",
      "summaryHTML <class 'str'>\n",
      "title <class 'str'>\n",
      "updated <class 'int'>\n",
      "url <class 'str'>\n",
      "version <class 'str'>\n",
      "video <class 'str'>\n",
      "videoImage <class 'str'>\n"
     ]
    }
   ],
   "source": [
    "# Full list of features\n",
    "for f,t in sorted(features.items()):\n",
    "    print(f,t)"
   ]
  },
  {
   "cell_type": "code",
   "execution_count": 11,
   "metadata": {},
   "outputs": [
    {
     "name": "stdout",
     "output_type": "stream",
     "text": [
      "comments <class 'list'>\n",
      "histogram <class 'list'>\n",
      "screenshots <class 'list'>\n"
     ]
    }
   ],
   "source": [
    "# Features with extra hierarchy\n",
    "for f,t in features.items():\n",
    "    if t == \"<class 'list'>\":\n",
    "        print(f,t)"
   ]
  },
  {
   "cell_type": "code",
   "execution_count": 12,
   "metadata": {},
   "outputs": [
    {
     "data": {
      "text/plain": [
       "[2801, 1254, 1826, 2319, 6935]"
      ]
     },
     "execution_count": 12,
     "metadata": {},
     "output_type": "execute_result"
    }
   ],
   "source": [
    "# 'comments' and 'screenshots' are some separate field of exploration, but 'histogram' could possibly be used in dataset \n",
    "# So: \n",
    "# 'histogram' field will be flattened\n",
    "# 'comments' and 'screenshots' will go to their separate datasets\n",
    "# Let's see historgam example:\n",
    "hier_fields = {'comments','screenshots','histogram'}\n",
    "\n",
    "first_app['histogram']\n"
   ]
  },
  {
   "cell_type": "code",
   "execution_count": 13,
   "metadata": {},
   "outputs": [
    {
     "data": {
      "text/plain": [
       "{'rating1': 2801,\n",
       " 'rating2': 1254,\n",
       " 'rating3': 1826,\n",
       " 'rating4': 2319,\n",
       " 'rating5': 6935}"
      ]
     },
     "execution_count": 13,
     "metadata": {},
     "output_type": "execute_result"
    }
   ],
   "source": [
    "# We can represent it as 5 different fields\n",
    "rating_example = {'rating' + str(num_stars+1):star_rating for num_stars, star_rating in enumerate(first_app['histogram'])}\n",
    "rating_example"
   ]
  },
  {
   "cell_type": "code",
   "execution_count": 14,
   "metadata": {},
   "outputs": [
    {
     "name": "stdout",
     "output_type": "stream",
     "text": [
      "'adSupported',\n",
      "'androidVersion',\n",
      "'androidVersionText',\n",
      "'appId',\n",
      "'containsAds',\n",
      "'contentRating',\n",
      "'currency',\n",
      "'description',\n",
      "'descriptionHTML',\n",
      "'developer',\n",
      "'developerAddress',\n",
      "'developerEmail',\n",
      "'developerId',\n",
      "'developerInternalID',\n",
      "'developerWebsite',\n",
      "'free',\n",
      "'genre',\n",
      "'genreId',\n",
      "'headerImage',\n",
      "'icon',\n",
      "'installs',\n",
      "'minInstalls',\n",
      "'offersIAP',\n",
      "'price',\n",
      "'privacyPolicy',\n",
      "'ratings',\n",
      "'released',\n",
      "'reviews',\n",
      "'sale',\n",
      "'score',\n",
      "'size',\n",
      "'summary',\n",
      "'summaryHTML',\n",
      "'title',\n",
      "'updated',\n",
      "'url',\n",
      "'version',\n",
      "'video',\n",
      "'videoImage',\n",
      "'recentChanges',\n",
      "'recentChangesHTML',\n",
      "'contentRatingDescription',\n",
      "'originalPrice',\n",
      "'saleText',\n",
      "'saleTime',\n"
     ]
    }
   ],
   "source": [
    "# All features except of list type with quotes around their names\n",
    "for f,t in features.items():\n",
    "    if t != \"<class 'list'>\":\n",
    "        print(\"'\"+f+\"',\")"
   ]
  },
  {
   "cell_type": "code",
   "execution_count": 15,
   "metadata": {},
   "outputs": [
    {
     "data": {
      "text/plain": [
       "{'version': '3.0.241',\n",
       " 'ratings': 15138,\n",
       " 'summaryHTML': 'Automatically launch tasks by location, SMS, battery level, wifi, calls and more',\n",
       " 'icon': 'https://lh3.googleusercontent.com/AX5i8AxpkNAcaRCTAeBhogtRfy5BsgazxdRkJcsNAded9ffGoxUXQcKso13qS_Nx14g',\n",
       " 'adSupported': True,\n",
       " 'saleText': None,\n",
       " 'androidVersionText': '4.0.3 and up',\n",
       " 'sale': False,\n",
       " 'developerWebsite': 'http://automateitapp.com',\n",
       " 'score': 3.6165802,\n",
       " 'installs': '1,000,000+',\n",
       " 'containsAds': True,\n",
       " 'title': 'AutomateIt - Automate tasks, save battery and more',\n",
       " 'size': '23M',\n",
       " 'contentRatingDescription': None,\n",
       " 'recentChangesHTML': None,\n",
       " 'genreId': 'PRODUCTIVITY',\n",
       " 'minInstalls': 1000000,\n",
       " 'recentChanges': None,\n",
       " 'saleTime': None,\n",
       " 'genre': 'Productivity',\n",
       " 'androidVersion': '4.0.3',\n",
       " 'appId': 'AutomateIt.mainPackage',\n",
       " 'currency': 'USD',\n",
       " 'free': True,\n",
       " 'descriptionHTML': 'AutomateIt is designed to make your life easier by automating various tasks on your Android smartphone or tablet.<br><br>Define a set of your desired behaviors in response to events on your Android device.<br>Each behavior/rule is defined as a pair of Trigger-Action listed below.<br><br>&quot;If you need your phone to adopt some autonomy, you can’t go wrong here&quot; - www.androidpolice.com<br>&quot;sometimes I’d like my phone to do stuff all on its own. It’s an Android after all&quot; - www.androidapps.com<br>&quot;AutomateIt Is a Simple and Free Android Automation Tool&quot; - www.lifehacker.com<br>&quot;It&#39;s truly an amazing app&quot; - www.androidpit.com<br><br>AutomateIt provides a default set of useful rules to get you started:<br>Low battery warning<br>Quiet at night<br>Normal sound mode at morning<br>Max volume when headset unplugged<br>Lower volume when headset plugged<br>Unmute by SMS<br><br>Triggers:<br>• Any SMS Trigger - Triggers on SMS received<br>• SMS With Text Trigger - Triggers on receipt of SMS Message with a specific text<br>• Battery Level Trigger - Triggers on a defined battery level<br>• Bluetooth State Enabled/Disabled<br>• Bluetooth Device Connected - Any device or specific device<br>• Incoming/Hang Call - Any call or from a specific contact<br>• Headset Plugged/Unplugged Trigger<br>• Location Trigger - Arriving/Exiting a defined region<br>• External Power Connected/Disconnected<br>• Screen On/Off<br>• Wi-Fi Enabled/Disabled<br>• Connected to Wi-Fi network - Any network or a specific network<br>• Time Trigger - recurring time events<br>• GPS Enabled Changed - GPS Activated/Deactivated and started/stopped looking for current location<br>• SMS from contact<br>• USB Connected/Disconnected Trigger<br>• Airplane Mode Activated/Deactivated<br>• Dock State Trigger - Docked to Car/Desk<br>• Application Status Trigger - Triggers when selected application activated or deactivated<br>• Outgoing call - all calls or calling specific contact<br>• Sound Mode Changed to Silent/Vibrate/Normal<br>• Boot Trigger - triggers on device startup (assuming service starts on boot)<br>• Manual Trigger - Requires user explicit execution of this trigger<br>• Cell ID Trigger - Trigger when connecting or disconnecting from defined cellular cells<br>• NFC Trigger - use NFC tags to launch rules<br>• Weather Trigger - Monitor weather at your location<br>• Mobile Data State Trigger<br>• Activity Recognition - an EXPERIMENTAL trigger that detects when you are in a car, on a bicycle, on foot or standing still<br><br>Actions:<br>• Notification - Shows notification on notification bar<br>• Play Sound - Plays selected sound<br>• Set Bluetooth State - Enabled/Disabled<br>• Set Sound Mode - Silent / Vibrate / Normal (With/Without Vibrate)<br>• Set Speakerphone State - Turn on/off<br>• Set Volume - Sets volume of all streams or a specific stream<br>• Set Wi-Fi Adapter State - Enabled/Disabled<br>• Start Application<br>• Enable/Disable other rules<br>• Vibrate action<br>• Enable/Disable Data Connectivity action - [NOT supported on some devices - see why on developer website]<br>• Kill Application [Requires Root - see why on developer website]<br>• Launch Home Screen<br>• Activate/Deactivate Airplane mode [Supported for Android version prior to 4.2 and all rooted devices]<br>• Enable/Disable GPS [Supported for Android version prior to 2.3 and all rooted devices]<br>• Enable/Disable Sync<br>• Set Mobile Data - Enable/Disable Mobile Data<br>• Set Screen Brightness - Automatic or specific value<br>• Enable/Disable screen automatic rotation<br>• Dial Phone Number<br>• Send SMS to phone number<br>• Set screen timeout (Including &quot;Never&quot; turn off)<br>• Shutdown device [Requires Root]<br>• Text-to-Speech - Say defined text<br>• Reboot [Requires Root]<br>• Set Wallpaper - set your home screen wallpaper<br><br>Want to AutomateIt with your own language? visit http://goo.gl/qpDoI.<br>Supports English, German, Spanish, Hebrew, Polish, Danish, French, Italian, Czech, Slovak, Romanian, Chinese, Hungarian, Portuguese, Japanese, Korean, Dutch and Russian',\n",
       " 'description': 'AutomateIt is designed to make your life easier by automating various tasks on your Android smartphone or tablet.\\r\\n\\r\\nDefine a set of your desired behaviors in response to events on your Android device.\\r\\nEach behavior/rule is defined as a pair of Trigger-Action listed below.\\r\\n\\r\\n\"If you need your phone to adopt some autonomy, you can’t go wrong here\" - www.androidpolice.com\\r\\n\"sometimes I’d like my phone to do stuff all on its own. It’s an Android after all\" - www.androidapps.com\\r\\n\"AutomateIt Is a Simple and Free Android Automation Tool\" - www.lifehacker.com\\r\\n\"It\\'s truly an amazing app\" - www.androidpit.com\\r\\n\\r\\nAutomateIt provides a default set of useful rules to get you started:\\r\\nLow battery warning\\r\\nQuiet at night\\r\\nNormal sound mode at morning\\r\\nMax volume when headset unplugged\\r\\nLower volume when headset plugged\\r\\nUnmute by SMS\\r\\n\\r\\nTriggers:\\r\\n• Any SMS Trigger - Triggers on SMS received\\r\\n• SMS With Text Trigger - Triggers on receipt of SMS Message with a specific text\\r\\n• Battery Level Trigger - Triggers on a defined battery level\\r\\n• Bluetooth State Enabled/Disabled\\r\\n• Bluetooth Device Connected - Any device or specific device\\r\\n• Incoming/Hang Call - Any call or from a specific contact\\r\\n• Headset Plugged/Unplugged Trigger\\r\\n• Location Trigger - Arriving/Exiting a defined region\\r\\n• External Power Connected/Disconnected\\r\\n• Screen On/Off\\r\\n• Wi-Fi Enabled/Disabled\\r\\n• Connected to Wi-Fi network - Any network or a specific network\\r\\n• Time Trigger - recurring time events\\r\\n• GPS Enabled Changed - GPS Activated/Deactivated and started/stopped looking for current location\\r\\n• SMS from contact\\r\\n• USB Connected/Disconnected Trigger\\r\\n• Airplane Mode Activated/Deactivated\\r\\n• Dock State Trigger - Docked to Car/Desk\\r\\n• Application Status Trigger - Triggers when selected application activated or deactivated\\r\\n• Outgoing call - all calls or calling specific contact\\r\\n• Sound Mode Changed to Silent/Vibrate/Normal\\r\\n• Boot Trigger - triggers on device startup (assuming service starts on boot)\\r\\n• Manual Trigger - Requires user explicit execution of this trigger\\r\\n• Cell ID Trigger - Trigger when connecting or disconnecting from defined cellular cells\\r\\n• NFC Trigger - use NFC tags to launch rules\\r\\n• Weather Trigger - Monitor weather at your location\\r\\n• Mobile Data State Trigger\\r\\n• Activity Recognition - an EXPERIMENTAL trigger that detects when you are in a car, on a bicycle, on foot or standing still\\r\\n\\r\\nActions:\\r\\n• Notification - Shows notification on notification bar\\r\\n• Play Sound - Plays selected sound\\r\\n• Set Bluetooth State - Enabled/Disabled\\r\\n• Set Sound Mode - Silent / Vibrate / Normal (With/Without Vibrate)\\r\\n• Set Speakerphone State - Turn on/off\\r\\n• Set Volume - Sets volume of all streams or a specific stream\\r\\n• Set Wi-Fi Adapter State - Enabled/Disabled\\r\\n• Start Application\\r\\n• Enable/Disable other rules\\r\\n• Vibrate action\\r\\n• Enable/Disable Data Connectivity action - [NOT supported on some devices - see why on developer website]\\r\\n• Kill Application [Requires Root - see why on developer website]\\r\\n• Launch Home Screen\\r\\n• Activate/Deactivate Airplane mode [Supported for Android version prior to 4.2 and all rooted devices]\\r\\n• Enable/Disable GPS [Supported for Android version prior to 2.3 and all rooted devices]\\r\\n• Enable/Disable Sync\\r\\n• Set Mobile Data - Enable/Disable Mobile Data\\r\\n• Set Screen Brightness - Automatic or specific value\\r\\n• Enable/Disable screen automatic rotation\\r\\n• Dial Phone Number\\r\\n• Send SMS to phone number\\r\\n• Set screen timeout (Including \"Never\" turn off)\\r\\n• Shutdown device [Requires Root]\\r\\n• Text-to-Speech - Say defined text\\r\\n• Reboot [Requires Root]\\r\\n• Set Wallpaper - set your home screen wallpaper\\r\\n\\r\\nWant to AutomateIt with your own language? visit http://goo.gl/qpDoI.\\r\\nSupports English, German, Spanish, Hebrew, Polish, Danish, French, Italian, Czech, Slovak, Romanian, Chinese, Hungarian, Portuguese, Japanese, Korean, Dutch and Russian',\n",
       " 'summary': 'Automatically launch tasks by location, SMS, battery level, wifi, calls and more',\n",
       " 'url': 'https://play.google.com/store/apps/details?id=AutomateIt.mainPackage&hl=en&gl=us',\n",
       " 'contentRating': 'Everyone',\n",
       " 'developerInternalID': '8202756898217994038',\n",
       " 'video': 'https://www.youtube.com/embed/hfnguZ2XMMM?ps=play&vq=large&rel=0&autohide=1&showinfo=0',\n",
       " 'headerImage': 'https://lh3.googleusercontent.com/fmgYVgTZTl5MiwsHdl9fE7qdsW1bi5I3sBJk11bllLL5XQnC3Anxo40IBq0KdEQxlvI',\n",
       " 'videoImage': 'https://i.ytimg.com/vi/hfnguZ2XMMM/hqdefault.jpg',\n",
       " 'developerId': '8202756898217994038',\n",
       " 'reviews': 6161,\n",
       " 'offersIAP': True,\n",
       " 'privacyPolicy': 'https://automateitapp.com/privacy-policy/',\n",
       " 'developer': 'SmarterApps Ltd',\n",
       " 'developerEmail': 'support@automateitapp.com',\n",
       " 'developerAddress': 'Petah-Tikva, Israel',\n",
       " 'originalPrice': None,\n",
       " 'price': 0,\n",
       " 'updated': 1558505777,\n",
       " 'released': 'Feb 4, 2011'}"
      ]
     },
     "execution_count": 15,
     "metadata": {},
     "output_type": "execute_result"
    }
   ],
   "source": [
    "# Example of the data to look at at it\n",
    "first_app_reduced = {key:first_app[key] for key in set(first_app.keys()) - hier_fields if key in first_app}\n",
    "first_app_reduced\n"
   ]
  },
  {
   "cell_type": "code",
   "execution_count": 16,
   "metadata": {},
   "outputs": [],
   "source": [
    "# Add flatten rating histogram to the dictionnary\n",
    "first_app_reduced.update(rating_example)"
   ]
  },
  {
   "cell_type": "code",
   "execution_count": 17,
   "metadata": {},
   "outputs": [
    {
     "data": {
      "text/plain": [
       "dict_keys(['version', 'ratings', 'summaryHTML', 'icon', 'adSupported', 'saleText', 'androidVersionText', 'sale', 'developerWebsite', 'score', 'installs', 'containsAds', 'title', 'size', 'contentRatingDescription', 'recentChangesHTML', 'genreId', 'minInstalls', 'recentChanges', 'saleTime', 'genre', 'androidVersion', 'appId', 'currency', 'free', 'descriptionHTML', 'description', 'summary', 'url', 'contentRating', 'developerInternalID', 'video', 'headerImage', 'videoImage', 'developerId', 'reviews', 'offersIAP', 'privacyPolicy', 'developer', 'developerEmail', 'developerAddress', 'originalPrice', 'price', 'updated', 'released', 'rating1', 'rating2', 'rating3', 'rating4', 'rating5'])"
      ]
     },
     "execution_count": 17,
     "metadata": {},
     "output_type": "execute_result"
    }
   ],
   "source": [
    "first_app_reduced.keys()"
   ]
  },
  {
   "cell_type": "code",
   "execution_count": 18,
   "metadata": {},
   "outputs": [
    {
     "name": "stdout",
     "output_type": "stream",
     "text": [
      "{'adSupported': True}\n",
      "{'androidVersion': '4.0.3'}\n",
      "{'androidVersionText': '4.0.3 and up'}\n",
      "{'appId': 'AutomateIt.mainPackage'}\n",
      "{'containsAds': True}\n",
      "{'contentRating': 'Everyone'}\n",
      "{'contentRatingDescription': 'Fantasy Violence'}\n",
      "{'currency': 'USD'}\n",
      "{'description': 'AutomateIt is designed to make your life easier by automating various tasks on your Android smartphone or tablet.\\r\\n\\r\\nDefine a set of your desired behaviors in response to events on your Android device.\\r\\nEach behavior/rule is defined as a pair of Trigger-Action listed below.\\r\\n\\r\\n\"If you need your phone to adopt some autonomy, you can’t go wrong here\" - www.androidpolice.com\\r\\n\"sometimes I’d like my phone to do stuff all on its own. It’s an Android after all\" - www.androidapps.com\\r\\n\"AutomateIt Is a Simple and Free Android Automation Tool\" - www.lifehacker.com\\r\\n\"It\\'s truly an amazing app\" - www.androidpit.com\\r\\n\\r\\nAutomateIt provides a default set of useful rules to get you started:\\r\\nLow battery warning\\r\\nQuiet at night\\r\\nNormal sound mode at morning\\r\\nMax volume when headset unplugged\\r\\nLower volume when headset plugged\\r\\nUnmute by SMS\\r\\n\\r\\nTriggers:\\r\\n• Any SMS Trigger - Triggers on SMS received\\r\\n• SMS With Text Trigger - Triggers on receipt of SMS Message with a specific text\\r\\n• Battery Level Trigger - Triggers on a defined battery level\\r\\n• Bluetooth State Enabled/Disabled\\r\\n• Bluetooth Device Connected - Any device or specific device\\r\\n• Incoming/Hang Call - Any call or from a specific contact\\r\\n• Headset Plugged/Unplugged Trigger\\r\\n• Location Trigger - Arriving/Exiting a defined region\\r\\n• External Power Connected/Disconnected\\r\\n• Screen On/Off\\r\\n• Wi-Fi Enabled/Disabled\\r\\n• Connected to Wi-Fi network - Any network or a specific network\\r\\n• Time Trigger - recurring time events\\r\\n• GPS Enabled Changed - GPS Activated/Deactivated and started/stopped looking for current location\\r\\n• SMS from contact\\r\\n• USB Connected/Disconnected Trigger\\r\\n• Airplane Mode Activated/Deactivated\\r\\n• Dock State Trigger - Docked to Car/Desk\\r\\n• Application Status Trigger - Triggers when selected application activated or deactivated\\r\\n• Outgoing call - all calls or calling specific contact\\r\\n• Sound Mode Changed to Silent/Vibrate/Normal\\r\\n• Boot Trigger - triggers on device startup (assuming service starts on boot)\\r\\n• Manual Trigger - Requires user explicit execution of this trigger\\r\\n• Cell ID Trigger - Trigger when connecting or disconnecting from defined cellular cells\\r\\n• NFC Trigger - use NFC tags to launch rules\\r\\n• Weather Trigger - Monitor weather at your location\\r\\n• Mobile Data State Trigger\\r\\n• Activity Recognition - an EXPERIMENTAL trigger that detects when you are in a car, on a bicycle, on foot or standing still\\r\\n\\r\\nActions:\\r\\n• Notification - Shows notification on notification bar\\r\\n• Play Sound - Plays selected sound\\r\\n• Set Bluetooth State - Enabled/Disabled\\r\\n• Set Sound Mode - Silent / Vibrate / Normal (With/Without Vibrate)\\r\\n• Set Speakerphone State - Turn on/off\\r\\n• Set Volume - Sets volume of all streams or a specific stream\\r\\n• Set Wi-Fi Adapter State - Enabled/Disabled\\r\\n• Start Application\\r\\n• Enable/Disable other rules\\r\\n• Vibrate action\\r\\n• Enable/Disable Data Connectivity action - [NOT supported on some devices - see why on developer website]\\r\\n• Kill Application [Requires Root - see why on developer website]\\r\\n• Launch Home Screen\\r\\n• Activate/Deactivate Airplane mode [Supported for Android version prior to 4.2 and all rooted devices]\\r\\n• Enable/Disable GPS [Supported for Android version prior to 2.3 and all rooted devices]\\r\\n• Enable/Disable Sync\\r\\n• Set Mobile Data - Enable/Disable Mobile Data\\r\\n• Set Screen Brightness - Automatic or specific value\\r\\n• Enable/Disable screen automatic rotation\\r\\n• Dial Phone Number\\r\\n• Send SMS to phone number\\r\\n• Set screen timeout (Including \"Never\" turn off)\\r\\n• Shutdown device [Requires Root]\\r\\n• Text-to-Speech - Say defined text\\r\\n• Reboot [Requires Root]\\r\\n• Set Wallpaper - set your home screen wallpaper\\r\\n\\r\\nWant to AutomateIt with your own language? visit http://goo.gl/qpDoI.\\r\\nSupports English, German, Spanish, Hebrew, Polish, Danish, French, Italian, Czech, Slovak, Romanian, Chinese, Hungarian, Portuguese, Japanese, Korean, Dutch and Russian'}\n",
      "{'descriptionHTML': 'AutomateIt is designed to make your life easier by automating various tasks on your Android smartphone or tablet.<br><br>Define a set of your desired behaviors in response to events on your Android device.<br>Each behavior/rule is defined as a pair of Trigger-Action listed below.<br><br>&quot;If you need your phone to adopt some autonomy, you can’t go wrong here&quot; - www.androidpolice.com<br>&quot;sometimes I’d like my phone to do stuff all on its own. It’s an Android after all&quot; - www.androidapps.com<br>&quot;AutomateIt Is a Simple and Free Android Automation Tool&quot; - www.lifehacker.com<br>&quot;It&#39;s truly an amazing app&quot; - www.androidpit.com<br><br>AutomateIt provides a default set of useful rules to get you started:<br>Low battery warning<br>Quiet at night<br>Normal sound mode at morning<br>Max volume when headset unplugged<br>Lower volume when headset plugged<br>Unmute by SMS<br><br>Triggers:<br>• Any SMS Trigger - Triggers on SMS received<br>• SMS With Text Trigger - Triggers on receipt of SMS Message with a specific text<br>• Battery Level Trigger - Triggers on a defined battery level<br>• Bluetooth State Enabled/Disabled<br>• Bluetooth Device Connected - Any device or specific device<br>• Incoming/Hang Call - Any call or from a specific contact<br>• Headset Plugged/Unplugged Trigger<br>• Location Trigger - Arriving/Exiting a defined region<br>• External Power Connected/Disconnected<br>• Screen On/Off<br>• Wi-Fi Enabled/Disabled<br>• Connected to Wi-Fi network - Any network or a specific network<br>• Time Trigger - recurring time events<br>• GPS Enabled Changed - GPS Activated/Deactivated and started/stopped looking for current location<br>• SMS from contact<br>• USB Connected/Disconnected Trigger<br>• Airplane Mode Activated/Deactivated<br>• Dock State Trigger - Docked to Car/Desk<br>• Application Status Trigger - Triggers when selected application activated or deactivated<br>• Outgoing call - all calls or calling specific contact<br>• Sound Mode Changed to Silent/Vibrate/Normal<br>• Boot Trigger - triggers on device startup (assuming service starts on boot)<br>• Manual Trigger - Requires user explicit execution of this trigger<br>• Cell ID Trigger - Trigger when connecting or disconnecting from defined cellular cells<br>• NFC Trigger - use NFC tags to launch rules<br>• Weather Trigger - Monitor weather at your location<br>• Mobile Data State Trigger<br>• Activity Recognition - an EXPERIMENTAL trigger that detects when you are in a car, on a bicycle, on foot or standing still<br><br>Actions:<br>• Notification - Shows notification on notification bar<br>• Play Sound - Plays selected sound<br>• Set Bluetooth State - Enabled/Disabled<br>• Set Sound Mode - Silent / Vibrate / Normal (With/Without Vibrate)<br>• Set Speakerphone State - Turn on/off<br>• Set Volume - Sets volume of all streams or a specific stream<br>• Set Wi-Fi Adapter State - Enabled/Disabled<br>• Start Application<br>• Enable/Disable other rules<br>• Vibrate action<br>• Enable/Disable Data Connectivity action - [NOT supported on some devices - see why on developer website]<br>• Kill Application [Requires Root - see why on developer website]<br>• Launch Home Screen<br>• Activate/Deactivate Airplane mode [Supported for Android version prior to 4.2 and all rooted devices]<br>• Enable/Disable GPS [Supported for Android version prior to 2.3 and all rooted devices]<br>• Enable/Disable Sync<br>• Set Mobile Data - Enable/Disable Mobile Data<br>• Set Screen Brightness - Automatic or specific value<br>• Enable/Disable screen automatic rotation<br>• Dial Phone Number<br>• Send SMS to phone number<br>• Set screen timeout (Including &quot;Never&quot; turn off)<br>• Shutdown device [Requires Root]<br>• Text-to-Speech - Say defined text<br>• Reboot [Requires Root]<br>• Set Wallpaper - set your home screen wallpaper<br><br>Want to AutomateIt with your own language? visit http://goo.gl/qpDoI.<br>Supports English, German, Spanish, Hebrew, Polish, Danish, French, Italian, Czech, Slovak, Romanian, Chinese, Hungarian, Portuguese, Japanese, Korean, Dutch and Russian'}\n",
      "{'developer': 'SmarterApps Ltd'}\n",
      "{'developerAddress': 'Petah-Tikva, Israel'}\n",
      "{'developerEmail': 'support@automateitapp.com'}\n",
      "{'developerId': '8202756898217994038'}\n",
      "{'developerInternalID': '8202756898217994038'}\n",
      "{'developerWebsite': 'http://automateitapp.com'}\n",
      "{'free': True}\n",
      "{'genre': 'Productivity'}\n",
      "{'genreId': 'PRODUCTIVITY'}\n",
      "{'headerImage': 'https://lh3.googleusercontent.com/fmgYVgTZTl5MiwsHdl9fE7qdsW1bi5I3sBJk11bllLL5XQnC3Anxo40IBq0KdEQxlvI'}\n",
      "{'icon': 'https://lh3.googleusercontent.com/AX5i8AxpkNAcaRCTAeBhogtRfy5BsgazxdRkJcsNAded9ffGoxUXQcKso13qS_Nx14g'}\n",
      "{'installs': '1,000,000+'}\n",
      "{'minInstalls': 1000000}\n",
      "{'offersIAP': True}\n",
      "{'originalPrice': 3.99}\n",
      "{'price': 0}\n",
      "{'privacyPolicy': 'https://automateitapp.com/privacy-policy/'}\n",
      "{'ratings': 15138}\n",
      "{'recentChanges': 'Nowa odsłona aplikacji Chillizet gotowa do pobrania!\\r\\n\\r\\n+ poprawki\\r\\n+ optymalizacja'}\n",
      "{'recentChangesHTML': 'Nowa odsłona aplikacji Chillizet gotowa do pobrania!<br><br>+ poprawki<br>+ optymalizacja'}\n",
      "{'released': 'Feb 4, 2011'}\n",
      "{'reviews': 6161}\n",
      "{'sale': False}\n",
      "{'saleText': 'Sale ends in 5 days'}\n",
      "{'saleTime': 1593561599}\n",
      "{'score': 3.6165802}\n",
      "{'size': '23M'}\n",
      "{'summary': 'Automatically launch tasks by location, SMS, battery level, wifi, calls and more'}\n",
      "{'summaryHTML': 'Automatically launch tasks by location, SMS, battery level, wifi, calls and more'}\n",
      "{'title': 'AutomateIt - Automate tasks, save battery and more'}\n",
      "{'updated': 1558505777}\n",
      "{'url': 'https://play.google.com/store/apps/details?id=AutomateIt.mainPackage&hl=en&gl=us'}\n",
      "{'version': '3.0.241'}\n",
      "{'video': 'https://www.youtube.com/embed/hfnguZ2XMMM?ps=play&vq=large&rel=0&autohide=1&showinfo=0'}\n",
      "{'videoImage': 'https://i.ytimg.com/vi/hfnguZ2XMMM/hqdefault.jpg'}\n"
     ]
    }
   ],
   "source": [
    "# Let's filter out fields that are not important for future analysis\n",
    "# For that let's visualise what all fields represent\n",
    "for f in sorted(set(features) - hier_fields):\n",
    "    for _, app in app_data.items():\n",
    "        if app[f] != None:\n",
    "            print({f:app[f]})\n",
    "            break"
   ]
  },
  {
   "cell_type": "code",
   "execution_count": null,
   "metadata": {},
   "outputs": [],
   "source": [
    "# Let's see some detailed info for some fields"
   ]
  },
  {
   "cell_type": "code",
   "execution_count": 19,
   "metadata": {},
   "outputs": [
    {
     "data": {
      "text/plain": [
       "{'Productivity': 'PRODUCTIVITY',\n",
       " 'Music & Audio': 'MUSIC_AND_AUDIO',\n",
       " 'Lifestyle': 'LIFESTYLE',\n",
       " 'Tools': 'TOOLS',\n",
       " 'Role Playing': 'GAME_ROLE_PLAYING',\n",
       " 'Puzzle': 'GAME_PUZZLE',\n",
       " 'Books & Reference': 'BOOKS_AND_REFERENCE',\n",
       " 'Education': 'EDUCATION',\n",
       " 'Travel & Local': 'TRAVEL_AND_LOCAL',\n",
       " 'Communication': 'COMMUNICATION',\n",
       " 'Personalization': 'PERSONALIZATION',\n",
       " 'Medical': 'MEDICAL',\n",
       " 'Libraries & Demo': 'LIBRARIES_AND_DEMO',\n",
       " 'Finance': 'FINANCE',\n",
       " 'Casual': 'GAME_CASUAL',\n",
       " 'Video Players & Editors': 'VIDEO_PLAYERS',\n",
       " 'Trivia': 'GAME_TRIVIA',\n",
       " 'Social': 'SOCIAL',\n",
       " 'Word': 'GAME_WORD',\n",
       " 'Health & Fitness': 'HEALTH_AND_FITNESS',\n",
       " 'Maps & Navigation': 'MAPS_AND_NAVIGATION',\n",
       " 'Business': 'BUSINESS',\n",
       " 'Shopping': 'SHOPPING',\n",
       " 'Photography': 'PHOTOGRAPHY',\n",
       " 'Simulation': 'GAME_SIMULATION',\n",
       " 'Entertainment': 'ENTERTAINMENT',\n",
       " 'Sports': 'SPORTS',\n",
       " 'News & Magazines': 'NEWS_AND_MAGAZINES',\n",
       " 'House & Home': 'HOUSE_AND_HOME',\n",
       " 'Beauty': 'BEAUTY',\n",
       " 'Strategy': 'GAME_STRATEGY',\n",
       " 'Weather': 'WEATHER',\n",
       " 'Arcade': 'GAME_ARCADE',\n",
       " 'Educational': 'GAME_EDUCATIONAL',\n",
       " 'Adventure': 'GAME_ADVENTURE',\n",
       " 'Music': 'GAME_MUSIC',\n",
       " 'Art & Design': 'ART_AND_DESIGN',\n",
       " 'Parenting': 'PARENTING',\n",
       " 'Board': 'GAME_BOARD',\n",
       " 'Casino': 'GAME_CASINO',\n",
       " 'Card': 'GAME_CARD',\n",
       " 'Action': 'GAME_ACTION',\n",
       " 'Racing': 'GAME_RACING',\n",
       " 'Comics': 'COMICS',\n",
       " 'Food & Drink': 'FOOD_AND_DRINK',\n",
       " 'Auto & Vehicles': 'AUTO_AND_VEHICLES',\n",
       " 'Dating': 'DATING',\n",
       " 'Events': 'EVENTS',\n",
       " None: None}"
      ]
     },
     "execution_count": 19,
     "metadata": {},
     "output_type": "execute_result"
    }
   ],
   "source": [
    "# 'genre' and 'genreId' difference\n",
    "comp = {}\n",
    "for _, app in app_data.items():\n",
    "    comp[app['genre']] = app['genreId']\n",
    "comp"
   ]
  },
  {
   "cell_type": "code",
   "execution_count": 20,
   "metadata": {},
   "outputs": [
    {
     "data": {
      "text/plain": [
       "{'1,000,000+': 1000000,\n",
       " '50,000+': 50000,\n",
       " '100,000+': 100000,\n",
       " '50,000,000+': 50000000,\n",
       " '500,000+': 500000,\n",
       " '10,000,000+': 10000000,\n",
       " '10,000+': 10000,\n",
       " '500+': 500,\n",
       " '100+': 100,\n",
       " '1,000+': 1000,\n",
       " '5,000+': 5000,\n",
       " '10+': 10,\n",
       " '5+': 5,\n",
       " '5,000,000+': 5000000,\n",
       " '50+': 50,\n",
       " '100,000,000+': 100000000,\n",
       " None: None,\n",
       " '1+': 1,\n",
       " '0+': 0,\n",
       " '500,000,000+': 500000000,\n",
       " '5,000,000,000+': 5000000000,\n",
       " '1,000,000,000+': 1000000000}"
      ]
     },
     "execution_count": 20,
     "metadata": {},
     "output_type": "execute_result"
    }
   ],
   "source": [
    "# 'installs' and 'minInstalls' difference\n",
    "comp = {}\n",
    "for _, app in app_data.items():\n",
    "    comp[app['installs']] = app['minInstalls']\n",
    "comp"
   ]
  },
  {
   "cell_type": "code",
   "execution_count": 21,
   "metadata": {},
   "outputs": [
    {
     "data": {
      "text/plain": [
       "{'USD': 'USD',\n",
       " 'JPY': 'JPY',\n",
       " None: None,\n",
       " 'EUR': 'EUR',\n",
       " 'GBP': 'GBP',\n",
       " 'RON': 'RON',\n",
       " 'VND': 'VND'}"
      ]
     },
     "execution_count": 21,
     "metadata": {},
     "output_type": "execute_result"
    }
   ],
   "source": [
    "# 'installs' and 'minInstalls' difference\n",
    "comp = {}\n",
    "for _, app in app_data.items():\n",
    "    comp[app['currency']] = app['currency']\n",
    "comp"
   ]
  },
  {
   "cell_type": "code",
   "execution_count": 22,
   "metadata": {},
   "outputs": [],
   "source": [
    "# We can filter out the following fields:\n",
    "# 'androidVersionText', - duplicates 'androidversion'\n",
    "# 'developerEmail' - not needed\n",
    "# 'developerInternalID' - duplicates 'developerID'\n",
    "# 'descriptionHTML' - duplicates 'description'\n",
    "# 'recentChangesHTML' - duplicates 'recentChanges'\n",
    "# 'summaryHTML' - duplicates 'summary'\n",
    "# 'installs' - duplicates 'minInstalls'\n",
    "# 'genre' - duplicates 'genreId'\n",
    "\n",
    "tech_fields = {'androidVersionText','developerEmail','developerInternalID','descriptionHTML','recentChangesHTML','summaryHTML','installs','genre'}"
   ]
  },
  {
   "cell_type": "code",
   "execution_count": 23,
   "metadata": {},
   "outputs": [],
   "source": [
    "# Let's prepare new dataset, without extra hierarchy and without technical fields\n",
    "new_dataset = []\n",
    "\n",
    "for _, app in app_data.items():\n",
    "    app_features_reduced = {key:app[key] for key in set(app.keys()) - hier_fields - tech_fields if key in app}\n",
    "    if app['histogram'] != None:\n",
    "        rating_feature = {'rating' + str(num_stars+1):star_rating for num_stars, star_rating in enumerate(app['histogram'])}\n",
    "        app_features_reduced.update(rating_feature)\n",
    "    new_dataset.append(app_features_reduced)"
   ]
  },
  {
   "cell_type": "code",
   "execution_count": 24,
   "metadata": {},
   "outputs": [
    {
     "data": {
      "text/plain": [
       "123460"
      ]
     },
     "execution_count": 24,
     "metadata": {},
     "output_type": "execute_result"
    }
   ],
   "source": [
    "len(new_dataset)"
   ]
  },
  {
   "cell_type": "code",
   "execution_count": 25,
   "metadata": {},
   "outputs": [
    {
     "data": {
      "text/plain": [
       "{'version': '3.0.241',\n",
       " 'ratings': 15138,\n",
       " 'icon': 'https://lh3.googleusercontent.com/AX5i8AxpkNAcaRCTAeBhogtRfy5BsgazxdRkJcsNAded9ffGoxUXQcKso13qS_Nx14g',\n",
       " 'adSupported': True,\n",
       " 'saleText': None,\n",
       " 'sale': False,\n",
       " 'developerWebsite': 'http://automateitapp.com',\n",
       " 'score': 3.6165802,\n",
       " 'containsAds': True,\n",
       " 'title': 'AutomateIt - Automate tasks, save battery and more',\n",
       " 'size': '23M',\n",
       " 'contentRatingDescription': None,\n",
       " 'genreId': 'PRODUCTIVITY',\n",
       " 'minInstalls': 1000000,\n",
       " 'recentChanges': None,\n",
       " 'saleTime': None,\n",
       " 'androidVersion': '4.0.3',\n",
       " 'appId': 'AutomateIt.mainPackage',\n",
       " 'currency': 'USD',\n",
       " 'free': True,\n",
       " 'description': 'AutomateIt is designed to make your life easier by automating various tasks on your Android smartphone or tablet.\\r\\n\\r\\nDefine a set of your desired behaviors in response to events on your Android device.\\r\\nEach behavior/rule is defined as a pair of Trigger-Action listed below.\\r\\n\\r\\n\"If you need your phone to adopt some autonomy, you can’t go wrong here\" - www.androidpolice.com\\r\\n\"sometimes I’d like my phone to do stuff all on its own. It’s an Android after all\" - www.androidapps.com\\r\\n\"AutomateIt Is a Simple and Free Android Automation Tool\" - www.lifehacker.com\\r\\n\"It\\'s truly an amazing app\" - www.androidpit.com\\r\\n\\r\\nAutomateIt provides a default set of useful rules to get you started:\\r\\nLow battery warning\\r\\nQuiet at night\\r\\nNormal sound mode at morning\\r\\nMax volume when headset unplugged\\r\\nLower volume when headset plugged\\r\\nUnmute by SMS\\r\\n\\r\\nTriggers:\\r\\n• Any SMS Trigger - Triggers on SMS received\\r\\n• SMS With Text Trigger - Triggers on receipt of SMS Message with a specific text\\r\\n• Battery Level Trigger - Triggers on a defined battery level\\r\\n• Bluetooth State Enabled/Disabled\\r\\n• Bluetooth Device Connected - Any device or specific device\\r\\n• Incoming/Hang Call - Any call or from a specific contact\\r\\n• Headset Plugged/Unplugged Trigger\\r\\n• Location Trigger - Arriving/Exiting a defined region\\r\\n• External Power Connected/Disconnected\\r\\n• Screen On/Off\\r\\n• Wi-Fi Enabled/Disabled\\r\\n• Connected to Wi-Fi network - Any network or a specific network\\r\\n• Time Trigger - recurring time events\\r\\n• GPS Enabled Changed - GPS Activated/Deactivated and started/stopped looking for current location\\r\\n• SMS from contact\\r\\n• USB Connected/Disconnected Trigger\\r\\n• Airplane Mode Activated/Deactivated\\r\\n• Dock State Trigger - Docked to Car/Desk\\r\\n• Application Status Trigger - Triggers when selected application activated or deactivated\\r\\n• Outgoing call - all calls or calling specific contact\\r\\n• Sound Mode Changed to Silent/Vibrate/Normal\\r\\n• Boot Trigger - triggers on device startup (assuming service starts on boot)\\r\\n• Manual Trigger - Requires user explicit execution of this trigger\\r\\n• Cell ID Trigger - Trigger when connecting or disconnecting from defined cellular cells\\r\\n• NFC Trigger - use NFC tags to launch rules\\r\\n• Weather Trigger - Monitor weather at your location\\r\\n• Mobile Data State Trigger\\r\\n• Activity Recognition - an EXPERIMENTAL trigger that detects when you are in a car, on a bicycle, on foot or standing still\\r\\n\\r\\nActions:\\r\\n• Notification - Shows notification on notification bar\\r\\n• Play Sound - Plays selected sound\\r\\n• Set Bluetooth State - Enabled/Disabled\\r\\n• Set Sound Mode - Silent / Vibrate / Normal (With/Without Vibrate)\\r\\n• Set Speakerphone State - Turn on/off\\r\\n• Set Volume - Sets volume of all streams or a specific stream\\r\\n• Set Wi-Fi Adapter State - Enabled/Disabled\\r\\n• Start Application\\r\\n• Enable/Disable other rules\\r\\n• Vibrate action\\r\\n• Enable/Disable Data Connectivity action - [NOT supported on some devices - see why on developer website]\\r\\n• Kill Application [Requires Root - see why on developer website]\\r\\n• Launch Home Screen\\r\\n• Activate/Deactivate Airplane mode [Supported for Android version prior to 4.2 and all rooted devices]\\r\\n• Enable/Disable GPS [Supported for Android version prior to 2.3 and all rooted devices]\\r\\n• Enable/Disable Sync\\r\\n• Set Mobile Data - Enable/Disable Mobile Data\\r\\n• Set Screen Brightness - Automatic or specific value\\r\\n• Enable/Disable screen automatic rotation\\r\\n• Dial Phone Number\\r\\n• Send SMS to phone number\\r\\n• Set screen timeout (Including \"Never\" turn off)\\r\\n• Shutdown device [Requires Root]\\r\\n• Text-to-Speech - Say defined text\\r\\n• Reboot [Requires Root]\\r\\n• Set Wallpaper - set your home screen wallpaper\\r\\n\\r\\nWant to AutomateIt with your own language? visit http://goo.gl/qpDoI.\\r\\nSupports English, German, Spanish, Hebrew, Polish, Danish, French, Italian, Czech, Slovak, Romanian, Chinese, Hungarian, Portuguese, Japanese, Korean, Dutch and Russian',\n",
       " 'summary': 'Automatically launch tasks by location, SMS, battery level, wifi, calls and more',\n",
       " 'url': 'https://play.google.com/store/apps/details?id=AutomateIt.mainPackage&hl=en&gl=us',\n",
       " 'contentRating': 'Everyone',\n",
       " 'video': 'https://www.youtube.com/embed/hfnguZ2XMMM?ps=play&vq=large&rel=0&autohide=1&showinfo=0',\n",
       " 'headerImage': 'https://lh3.googleusercontent.com/fmgYVgTZTl5MiwsHdl9fE7qdsW1bi5I3sBJk11bllLL5XQnC3Anxo40IBq0KdEQxlvI',\n",
       " 'videoImage': 'https://i.ytimg.com/vi/hfnguZ2XMMM/hqdefault.jpg',\n",
       " 'developerId': '8202756898217994038',\n",
       " 'reviews': 6161,\n",
       " 'offersIAP': True,\n",
       " 'privacyPolicy': 'https://automateitapp.com/privacy-policy/',\n",
       " 'developer': 'SmarterApps Ltd',\n",
       " 'developerAddress': 'Petah-Tikva, Israel',\n",
       " 'originalPrice': None,\n",
       " 'price': 0,\n",
       " 'updated': 1558505777,\n",
       " 'released': 'Feb 4, 2011',\n",
       " 'rating1': 2801,\n",
       " 'rating2': 1254,\n",
       " 'rating3': 1826,\n",
       " 'rating4': 2319,\n",
       " 'rating5': 6935}"
      ]
     },
     "execution_count": 25,
     "metadata": {},
     "output_type": "execute_result"
    }
   ],
   "source": [
    "# Example what we've got as a new, flatten and reduced dataset.\n",
    "new_dataset[0]"
   ]
  },
  {
   "cell_type": "code",
   "execution_count": 26,
   "metadata": {},
   "outputs": [],
   "source": [
    "# Check available features of the apps and store their type\n",
    "features = {}\n",
    "\n",
    "for app in new_dataset:\n",
    "    for f in app.items():\n",
    "        # Do not add empty features as their data type is not defined \n",
    "        if f[1] != None:\n",
    "            features[f[0]] = str(type(f[1]))"
   ]
  },
  {
   "cell_type": "code",
   "execution_count": 27,
   "metadata": {},
   "outputs": [],
   "source": [
    "# Next step we will split the dataset and save it to three different flat csv files\n",
    "# app_base_data - dataset with most of the fields that we've defined above\n",
    "# app_screenshots - dataset with user screenshot links \n",
    "# app_comments - dataset with user comments\n",
    "import pandas as pd"
   ]
  },
  {
   "cell_type": "code",
   "execution_count": 28,
   "metadata": {},
   "outputs": [],
   "source": [
    "# Convert data dictionnary to pandas dataframe and save it to csv file for further access\n",
    "app_base_data = pd.DataFrame(new_dataset)"
   ]
  },
  {
   "cell_type": "code",
   "execution_count": 29,
   "metadata": {},
   "outputs": [
    {
     "data": {
      "text/html": [
       "<div>\n",
       "<style scoped>\n",
       "    .dataframe tbody tr th:only-of-type {\n",
       "        vertical-align: middle;\n",
       "    }\n",
       "\n",
       "    .dataframe tbody tr th {\n",
       "        vertical-align: top;\n",
       "    }\n",
       "\n",
       "    .dataframe thead th {\n",
       "        text-align: right;\n",
       "    }\n",
       "</style>\n",
       "<table border=\"1\" class=\"dataframe\">\n",
       "  <thead>\n",
       "    <tr style=\"text-align: right;\">\n",
       "      <th></th>\n",
       "      <th>version</th>\n",
       "      <th>ratings</th>\n",
       "      <th>icon</th>\n",
       "      <th>adSupported</th>\n",
       "      <th>saleText</th>\n",
       "      <th>sale</th>\n",
       "      <th>developerWebsite</th>\n",
       "      <th>score</th>\n",
       "      <th>containsAds</th>\n",
       "      <th>title</th>\n",
       "      <th>...</th>\n",
       "      <th>developerAddress</th>\n",
       "      <th>originalPrice</th>\n",
       "      <th>price</th>\n",
       "      <th>updated</th>\n",
       "      <th>released</th>\n",
       "      <th>rating1</th>\n",
       "      <th>rating2</th>\n",
       "      <th>rating3</th>\n",
       "      <th>rating4</th>\n",
       "      <th>rating5</th>\n",
       "    </tr>\n",
       "  </thead>\n",
       "  <tbody>\n",
       "    <tr>\n",
       "      <td>0</td>\n",
       "      <td>3.0.241</td>\n",
       "      <td>15138.0</td>\n",
       "      <td>https://lh3.googleusercontent.com/AX5i8AxpkNAc...</td>\n",
       "      <td>True</td>\n",
       "      <td>None</td>\n",
       "      <td>False</td>\n",
       "      <td>http://automateitapp.com</td>\n",
       "      <td>3.616580</td>\n",
       "      <td>True</td>\n",
       "      <td>AutomateIt - Automate tasks, save battery and ...</td>\n",
       "      <td>...</td>\n",
       "      <td>Petah-Tikva, Israel</td>\n",
       "      <td>NaN</td>\n",
       "      <td>0.00</td>\n",
       "      <td>1.558506e+09</td>\n",
       "      <td>Feb 4, 2011</td>\n",
       "      <td>2801.0</td>\n",
       "      <td>1254.0</td>\n",
       "      <td>1826.0</td>\n",
       "      <td>2319.0</td>\n",
       "      <td>6935.0</td>\n",
       "    </tr>\n",
       "    <tr>\n",
       "      <td>1</td>\n",
       "      <td>4.0.241</td>\n",
       "      <td>6197.0</td>\n",
       "      <td>https://lh3.googleusercontent.com/2QBsyy6BPV3Q...</td>\n",
       "      <td>None</td>\n",
       "      <td>None</td>\n",
       "      <td>False</td>\n",
       "      <td>http://automateitapp.com</td>\n",
       "      <td>3.238007</td>\n",
       "      <td>None</td>\n",
       "      <td>AutomateIt Pro - Automate tasks on your Android</td>\n",
       "      <td>...</td>\n",
       "      <td>Petah-Tikva, Israel</td>\n",
       "      <td>NaN</td>\n",
       "      <td>2.99</td>\n",
       "      <td>1.558506e+09</td>\n",
       "      <td>Jun 12, 2011</td>\n",
       "      <td>1577.0</td>\n",
       "      <td>640.0</td>\n",
       "      <td>880.0</td>\n",
       "      <td>926.0</td>\n",
       "      <td>2172.0</td>\n",
       "    </tr>\n",
       "    <tr>\n",
       "      <td>2</td>\n",
       "      <td>5.9</td>\n",
       "      <td>1425.0</td>\n",
       "      <td>https://lh3.googleusercontent.com/-l7k-c6zHbC0...</td>\n",
       "      <td>True</td>\n",
       "      <td>None</td>\n",
       "      <td>False</td>\n",
       "      <td>http://www.eurozet.pl</td>\n",
       "      <td>3.093458</td>\n",
       "      <td>True</td>\n",
       "      <td>Chillizet</td>\n",
       "      <td>...</td>\n",
       "      <td>Lagardere Active Radio International\\nEUROZET\\...</td>\n",
       "      <td>NaN</td>\n",
       "      <td>0.00</td>\n",
       "      <td>1.577043e+09</td>\n",
       "      <td>Mar 27, 2012</td>\n",
       "      <td>359.0</td>\n",
       "      <td>279.0</td>\n",
       "      <td>119.0</td>\n",
       "      <td>199.0</td>\n",
       "      <td>466.0</td>\n",
       "    </tr>\n",
       "    <tr>\n",
       "      <td>3</td>\n",
       "      <td>5.0.14</td>\n",
       "      <td>62254.0</td>\n",
       "      <td>https://lh3.googleusercontent.com/xEZTcdyGLms1...</td>\n",
       "      <td>True</td>\n",
       "      <td>None</td>\n",
       "      <td>False</td>\n",
       "      <td>http://www.tworld.co.kr/</td>\n",
       "      <td>4.032904</td>\n",
       "      <td>True</td>\n",
       "      <td>T world</td>\n",
       "      <td>...</td>\n",
       "      <td>서울특별시 중구 을지로65(을지로2가) SK T-타워</td>\n",
       "      <td>NaN</td>\n",
       "      <td>0.00</td>\n",
       "      <td>1.590483e+09</td>\n",
       "      <td>Aug 10, 2010</td>\n",
       "      <td>8193.0</td>\n",
       "      <td>1963.0</td>\n",
       "      <td>5684.0</td>\n",
       "      <td>10173.0</td>\n",
       "      <td>36239.0</td>\n",
       "    </tr>\n",
       "    <tr>\n",
       "      <td>4</td>\n",
       "      <td>4.5</td>\n",
       "      <td>350.0</td>\n",
       "      <td>https://lh3.googleusercontent.com/gmR0kF1AT7Wd...</td>\n",
       "      <td>None</td>\n",
       "      <td>None</td>\n",
       "      <td>False</td>\n",
       "      <td>https://www.drivehq.com</td>\n",
       "      <td>4.280000</td>\n",
       "      <td>None</td>\n",
       "      <td>Cloud File Manager</td>\n",
       "      <td>...</td>\n",
       "      <td>2551 San Ramon Valley Blvd, Suite 213,\\nSan Ra...</td>\n",
       "      <td>NaN</td>\n",
       "      <td>0.00</td>\n",
       "      <td>1.590307e+09</td>\n",
       "      <td>Sep 6, 2011</td>\n",
       "      <td>35.0</td>\n",
       "      <td>10.0</td>\n",
       "      <td>24.0</td>\n",
       "      <td>31.0</td>\n",
       "      <td>248.0</td>\n",
       "    </tr>\n",
       "  </tbody>\n",
       "</table>\n",
       "<p>5 rows × 42 columns</p>\n",
       "</div>"
      ],
      "text/plain": [
       "   version  ratings                                               icon  \\\n",
       "0  3.0.241  15138.0  https://lh3.googleusercontent.com/AX5i8AxpkNAc...   \n",
       "1  4.0.241   6197.0  https://lh3.googleusercontent.com/2QBsyy6BPV3Q...   \n",
       "2      5.9   1425.0  https://lh3.googleusercontent.com/-l7k-c6zHbC0...   \n",
       "3   5.0.14  62254.0  https://lh3.googleusercontent.com/xEZTcdyGLms1...   \n",
       "4      4.5    350.0  https://lh3.googleusercontent.com/gmR0kF1AT7Wd...   \n",
       "\n",
       "  adSupported saleText   sale          developerWebsite     score containsAds  \\\n",
       "0        True     None  False  http://automateitapp.com  3.616580        True   \n",
       "1        None     None  False  http://automateitapp.com  3.238007        None   \n",
       "2        True     None  False     http://www.eurozet.pl  3.093458        True   \n",
       "3        True     None  False  http://www.tworld.co.kr/  4.032904        True   \n",
       "4        None     None  False   https://www.drivehq.com  4.280000        None   \n",
       "\n",
       "                                               title  ...  \\\n",
       "0  AutomateIt - Automate tasks, save battery and ...  ...   \n",
       "1    AutomateIt Pro - Automate tasks on your Android  ...   \n",
       "2                                          Chillizet  ...   \n",
       "3                                            T world  ...   \n",
       "4                                 Cloud File Manager  ...   \n",
       "\n",
       "                                    developerAddress originalPrice price  \\\n",
       "0                                Petah-Tikva, Israel           NaN  0.00   \n",
       "1                                Petah-Tikva, Israel           NaN  2.99   \n",
       "2  Lagardere Active Radio International\\nEUROZET\\...           NaN  0.00   \n",
       "3                      서울특별시 중구 을지로65(을지로2가) SK T-타워           NaN  0.00   \n",
       "4  2551 San Ramon Valley Blvd, Suite 213,\\nSan Ra...           NaN  0.00   \n",
       "\n",
       "        updated      released  rating1 rating2 rating3  rating4  rating5  \n",
       "0  1.558506e+09   Feb 4, 2011   2801.0  1254.0  1826.0   2319.0   6935.0  \n",
       "1  1.558506e+09  Jun 12, 2011   1577.0   640.0   880.0    926.0   2172.0  \n",
       "2  1.577043e+09  Mar 27, 2012    359.0   279.0   119.0    199.0    466.0  \n",
       "3  1.590483e+09  Aug 10, 2010   8193.0  1963.0  5684.0  10173.0  36239.0  \n",
       "4  1.590307e+09   Sep 6, 2011     35.0    10.0    24.0     31.0    248.0  \n",
       "\n",
       "[5 rows x 42 columns]"
      ]
     },
     "execution_count": 29,
     "metadata": {},
     "output_type": "execute_result"
    }
   ],
   "source": [
    "app_base_data.head()"
   ]
  },
  {
   "cell_type": "code",
   "execution_count": 92,
   "metadata": {},
   "outputs": [],
   "source": [
    "# Write to file\n",
    "app_base_data.to_csv('Dataset//app_base_data.csv', index = False)"
   ]
  },
  {
   "cell_type": "code",
   "execution_count": 93,
   "metadata": {},
   "outputs": [
    {
     "data": {
      "text/html": [
       "<div>\n",
       "<style scoped>\n",
       "    .dataframe tbody tr th:only-of-type {\n",
       "        vertical-align: middle;\n",
       "    }\n",
       "\n",
       "    .dataframe tbody tr th {\n",
       "        vertical-align: top;\n",
       "    }\n",
       "\n",
       "    .dataframe thead th {\n",
       "        text-align: right;\n",
       "    }\n",
       "</style>\n",
       "<table border=\"1\" class=\"dataframe\">\n",
       "  <thead>\n",
       "    <tr style=\"text-align: right;\">\n",
       "      <th></th>\n",
       "      <th>adSupported</th>\n",
       "      <th>androidVersion</th>\n",
       "      <th>appId</th>\n",
       "      <th>containsAds</th>\n",
       "      <th>contentRating</th>\n",
       "      <th>contentRatingDescription</th>\n",
       "      <th>currency</th>\n",
       "      <th>description</th>\n",
       "      <th>developer</th>\n",
       "      <th>developerAddress</th>\n",
       "      <th>...</th>\n",
       "      <th>saleTime</th>\n",
       "      <th>score</th>\n",
       "      <th>size</th>\n",
       "      <th>summary</th>\n",
       "      <th>title</th>\n",
       "      <th>updated</th>\n",
       "      <th>url</th>\n",
       "      <th>version</th>\n",
       "      <th>video</th>\n",
       "      <th>videoImage</th>\n",
       "    </tr>\n",
       "  </thead>\n",
       "  <tbody>\n",
       "    <tr>\n",
       "      <td>0</td>\n",
       "      <td>True</td>\n",
       "      <td>4.0.3</td>\n",
       "      <td>AutomateIt.mainPackage</td>\n",
       "      <td>True</td>\n",
       "      <td>Everyone</td>\n",
       "      <td>NaN</td>\n",
       "      <td>USD</td>\n",
       "      <td>AutomateIt is designed to make your life easie...</td>\n",
       "      <td>SmarterApps Ltd</td>\n",
       "      <td>Petah-Tikva, Israel</td>\n",
       "      <td>...</td>\n",
       "      <td>NaN</td>\n",
       "      <td>3.616580</td>\n",
       "      <td>23M</td>\n",
       "      <td>Automatically launch tasks by location, SMS, b...</td>\n",
       "      <td>AutomateIt - Automate tasks, save battery and ...</td>\n",
       "      <td>1.558506e+09</td>\n",
       "      <td>https://play.google.com/store/apps/details?id=...</td>\n",
       "      <td>3.0.241</td>\n",
       "      <td>https://www.youtube.com/embed/hfnguZ2XMMM?ps=p...</td>\n",
       "      <td>https://i.ytimg.com/vi/hfnguZ2XMMM/hqdefault.jpg</td>\n",
       "    </tr>\n",
       "    <tr>\n",
       "      <td>1</td>\n",
       "      <td>NaN</td>\n",
       "      <td>4.0.3</td>\n",
       "      <td>AutomateItPro.mainPackage</td>\n",
       "      <td>NaN</td>\n",
       "      <td>Everyone</td>\n",
       "      <td>NaN</td>\n",
       "      <td>USD</td>\n",
       "      <td>AutomateIt is designed to make your life easie...</td>\n",
       "      <td>SmarterApps Ltd</td>\n",
       "      <td>Petah-Tikva, Israel</td>\n",
       "      <td>...</td>\n",
       "      <td>NaN</td>\n",
       "      <td>3.238007</td>\n",
       "      <td>23M</td>\n",
       "      <td>Turn your smartphone into a genius-phone!</td>\n",
       "      <td>AutomateIt Pro - Automate tasks on your Android</td>\n",
       "      <td>1.558506e+09</td>\n",
       "      <td>https://play.google.com/store/apps/details?id=...</td>\n",
       "      <td>4.0.241</td>\n",
       "      <td>https://www.youtube.com/embed/hfnguZ2XMMM?ps=p...</td>\n",
       "      <td>https://i.ytimg.com/vi/hfnguZ2XMMM/hqdefault.jpg</td>\n",
       "    </tr>\n",
       "    <tr>\n",
       "      <td>2</td>\n",
       "      <td>True</td>\n",
       "      <td>4.1</td>\n",
       "      <td>ChilliZET.app</td>\n",
       "      <td>True</td>\n",
       "      <td>Everyone</td>\n",
       "      <td>NaN</td>\n",
       "      <td>USD</td>\n",
       "      <td>Słuchaj Radia Chillizet i kanałów muzycznych w...</td>\n",
       "      <td>Eurozet Sp. z o.o.</td>\n",
       "      <td>Lagardere Active Radio International\\nEUROZET\\...</td>\n",
       "      <td>...</td>\n",
       "      <td>NaN</td>\n",
       "      <td>3.093458</td>\n",
       "      <td>6.9M</td>\n",
       "      <td>Radio Chillizet - setting the CHILL OUT</td>\n",
       "      <td>Chillizet</td>\n",
       "      <td>1.577043e+09</td>\n",
       "      <td>https://play.google.com/store/apps/details?id=...</td>\n",
       "      <td>5.9</td>\n",
       "      <td>NaN</td>\n",
       "      <td>NaN</td>\n",
       "    </tr>\n",
       "    <tr>\n",
       "      <td>3</td>\n",
       "      <td>True</td>\n",
       "      <td>4.4</td>\n",
       "      <td>Com.sktelecom.minit</td>\n",
       "      <td>True</td>\n",
       "      <td>Everyone</td>\n",
       "      <td>NaN</td>\n",
       "      <td>USD</td>\n",
       "      <td>SK텔레콤 고객이라면 새로워진 T world 서비스를 기존과 동일하게 3G/LTE ...</td>\n",
       "      <td>SKTelecom</td>\n",
       "      <td>서울특별시 중구 을지로65(을지로2가) SK T-타워</td>\n",
       "      <td>...</td>\n",
       "      <td>NaN</td>\n",
       "      <td>4.032904</td>\n",
       "      <td>31M</td>\n",
       "      <td>When you log in to the newly refurbished T wor...</td>\n",
       "      <td>T world</td>\n",
       "      <td>1.590483e+09</td>\n",
       "      <td>https://play.google.com/store/apps/details?id=...</td>\n",
       "      <td>5.0.14</td>\n",
       "      <td>NaN</td>\n",
       "      <td>NaN</td>\n",
       "    </tr>\n",
       "    <tr>\n",
       "      <td>4</td>\n",
       "      <td>NaN</td>\n",
       "      <td>4.1</td>\n",
       "      <td>DHQ.FileManagerForAndroid</td>\n",
       "      <td>NaN</td>\n",
       "      <td>Everyone</td>\n",
       "      <td>NaN</td>\n",
       "      <td>USD</td>\n",
       "      <td>DriveHQ Cloud File Manager can manage both loc...</td>\n",
       "      <td>DriveHQ.com &amp; CameraFTP.com</td>\n",
       "      <td>2551 San Ramon Valley Blvd, Suite 213,\\nSan Ra...</td>\n",
       "      <td>...</td>\n",
       "      <td>NaN</td>\n",
       "      <td>4.280000</td>\n",
       "      <td>17M</td>\n",
       "      <td>Cloud Base, File Sharing, FTP Server, Online S...</td>\n",
       "      <td>Cloud File Manager</td>\n",
       "      <td>1.590307e+09</td>\n",
       "      <td>https://play.google.com/store/apps/details?id=...</td>\n",
       "      <td>4.5</td>\n",
       "      <td>https://www.youtube.com/embed/icneXELTCOo?ps=p...</td>\n",
       "      <td>https://i.ytimg.com/vi/icneXELTCOo/hqdefault.jpg</td>\n",
       "    </tr>\n",
       "  </tbody>\n",
       "</table>\n",
       "<p>5 rows × 42 columns</p>\n",
       "</div>"
      ],
      "text/plain": [
       "  adSupported androidVersion                      appId containsAds  \\\n",
       "0        True          4.0.3     AutomateIt.mainPackage        True   \n",
       "1         NaN          4.0.3  AutomateItPro.mainPackage         NaN   \n",
       "2        True            4.1              ChilliZET.app        True   \n",
       "3        True            4.4        Com.sktelecom.minit        True   \n",
       "4         NaN            4.1  DHQ.FileManagerForAndroid         NaN   \n",
       "\n",
       "  contentRating contentRatingDescription currency  \\\n",
       "0      Everyone                      NaN      USD   \n",
       "1      Everyone                      NaN      USD   \n",
       "2      Everyone                      NaN      USD   \n",
       "3      Everyone                      NaN      USD   \n",
       "4      Everyone                      NaN      USD   \n",
       "\n",
       "                                         description  \\\n",
       "0  AutomateIt is designed to make your life easie...   \n",
       "1  AutomateIt is designed to make your life easie...   \n",
       "2  Słuchaj Radia Chillizet i kanałów muzycznych w...   \n",
       "3  SK텔레콤 고객이라면 새로워진 T world 서비스를 기존과 동일하게 3G/LTE ...   \n",
       "4  DriveHQ Cloud File Manager can manage both loc...   \n",
       "\n",
       "                     developer  \\\n",
       "0              SmarterApps Ltd   \n",
       "1              SmarterApps Ltd   \n",
       "2           Eurozet Sp. z o.o.   \n",
       "3                    SKTelecom   \n",
       "4  DriveHQ.com & CameraFTP.com   \n",
       "\n",
       "                                    developerAddress  ... saleTime     score  \\\n",
       "0                                Petah-Tikva, Israel  ...      NaN  3.616580   \n",
       "1                                Petah-Tikva, Israel  ...      NaN  3.238007   \n",
       "2  Lagardere Active Radio International\\nEUROZET\\...  ...      NaN  3.093458   \n",
       "3                      서울특별시 중구 을지로65(을지로2가) SK T-타워  ...      NaN  4.032904   \n",
       "4  2551 San Ramon Valley Blvd, Suite 213,\\nSan Ra...  ...      NaN  4.280000   \n",
       "\n",
       "   size                                            summary  \\\n",
       "0   23M  Automatically launch tasks by location, SMS, b...   \n",
       "1   23M          Turn your smartphone into a genius-phone!   \n",
       "2  6.9M            Radio Chillizet - setting the CHILL OUT   \n",
       "3   31M  When you log in to the newly refurbished T wor...   \n",
       "4   17M  Cloud Base, File Sharing, FTP Server, Online S...   \n",
       "\n",
       "                                               title       updated  \\\n",
       "0  AutomateIt - Automate tasks, save battery and ...  1.558506e+09   \n",
       "1    AutomateIt Pro - Automate tasks on your Android  1.558506e+09   \n",
       "2                                          Chillizet  1.577043e+09   \n",
       "3                                            T world  1.590483e+09   \n",
       "4                                 Cloud File Manager  1.590307e+09   \n",
       "\n",
       "                                                 url  version  \\\n",
       "0  https://play.google.com/store/apps/details?id=...  3.0.241   \n",
       "1  https://play.google.com/store/apps/details?id=...  4.0.241   \n",
       "2  https://play.google.com/store/apps/details?id=...      5.9   \n",
       "3  https://play.google.com/store/apps/details?id=...   5.0.14   \n",
       "4  https://play.google.com/store/apps/details?id=...      4.5   \n",
       "\n",
       "                                               video  \\\n",
       "0  https://www.youtube.com/embed/hfnguZ2XMMM?ps=p...   \n",
       "1  https://www.youtube.com/embed/hfnguZ2XMMM?ps=p...   \n",
       "2                                                NaN   \n",
       "3                                                NaN   \n",
       "4  https://www.youtube.com/embed/icneXELTCOo?ps=p...   \n",
       "\n",
       "                                         videoImage  \n",
       "0  https://i.ytimg.com/vi/hfnguZ2XMMM/hqdefault.jpg  \n",
       "1  https://i.ytimg.com/vi/hfnguZ2XMMM/hqdefault.jpg  \n",
       "2                                               NaN  \n",
       "3                                               NaN  \n",
       "4  https://i.ytimg.com/vi/icneXELTCOo/hqdefault.jpg  \n",
       "\n",
       "[5 rows x 42 columns]"
      ]
     },
     "execution_count": 93,
     "metadata": {},
     "output_type": "execute_result"
    }
   ],
   "source": [
    "# Let's check that csv is OK\n",
    "test = pd.read_csv('Dataset//app_base_data.csv')\n",
    "test.head()"
   ]
  },
  {
   "cell_type": "code",
   "execution_count": 1,
   "metadata": {},
   "outputs": [
    {
     "ename": "NameError",
     "evalue": "name 'test' is not defined",
     "output_type": "error",
     "traceback": [
      "\u001b[1;31m---------------------------------------------------------------------------\u001b[0m",
      "\u001b[1;31mNameError\u001b[0m                                 Traceback (most recent call last)",
      "\u001b[1;32m<ipython-input-1-ca7e793253ef>\u001b[0m in \u001b[0;36m<module>\u001b[1;34m\u001b[0m\n\u001b[1;32m----> 1\u001b[1;33m \u001b[0mtest\u001b[0m\u001b[1;33m.\u001b[0m\u001b[0mhead\u001b[0m\u001b[1;33m(\u001b[0m\u001b[1;33m)\u001b[0m\u001b[1;33m\u001b[0m\u001b[1;33m\u001b[0m\u001b[0m\n\u001b[0m",
      "\u001b[1;31mNameError\u001b[0m: name 'test' is not defined"
     ]
    }
   ],
   "source": [
    "test.head()"
   ]
  },
  {
   "cell_type": "code",
   "execution_count": 36,
   "metadata": {},
   "outputs": [],
   "source": [
    "# Now screenshots dataset\n",
    "screens = []\n",
    "for _, app in app_data.items():\n",
    "    if app['screenshots'] != None:\n",
    "        for s in app['screenshots']:\n",
    "            screens.append((app['appId'],s))"
   ]
  },
  {
   "cell_type": "code",
   "execution_count": 37,
   "metadata": {},
   "outputs": [
    {
     "data": {
      "text/plain": [
       "('AutomateIt.mainPackage',\n",
       " 'https://lh3.googleusercontent.com/K9y27QwA87js_rxvj9eTMR1psN8CRceuuFKpBJTb03f6PP6CVSVgN3YL5Flq_wH-mfU')"
      ]
     },
     "execution_count": 37,
     "metadata": {},
     "output_type": "execute_result"
    }
   ],
   "source": [
    "screens[0]"
   ]
  },
  {
   "cell_type": "code",
   "execution_count": 38,
   "metadata": {},
   "outputs": [
    {
     "data": {
      "text/plain": [
       "1236966"
      ]
     },
     "execution_count": 38,
     "metadata": {},
     "output_type": "execute_result"
    }
   ],
   "source": [
    "len(screens)"
   ]
  },
  {
   "cell_type": "code",
   "execution_count": 39,
   "metadata": {},
   "outputs": [],
   "source": [
    "# Convert to pandas dataframe\n",
    "app_screens = pd.DataFrame(screens)"
   ]
  },
  {
   "cell_type": "code",
   "execution_count": 40,
   "metadata": {},
   "outputs": [
    {
     "data": {
      "text/html": [
       "<div>\n",
       "<style scoped>\n",
       "    .dataframe tbody tr th:only-of-type {\n",
       "        vertical-align: middle;\n",
       "    }\n",
       "\n",
       "    .dataframe tbody tr th {\n",
       "        vertical-align: top;\n",
       "    }\n",
       "\n",
       "    .dataframe thead th {\n",
       "        text-align: right;\n",
       "    }\n",
       "</style>\n",
       "<table border=\"1\" class=\"dataframe\">\n",
       "  <thead>\n",
       "    <tr style=\"text-align: right;\">\n",
       "      <th></th>\n",
       "      <th>0</th>\n",
       "      <th>1</th>\n",
       "    </tr>\n",
       "  </thead>\n",
       "  <tbody>\n",
       "    <tr>\n",
       "      <td>0</td>\n",
       "      <td>AutomateIt.mainPackage</td>\n",
       "      <td>https://lh3.googleusercontent.com/K9y27QwA87js...</td>\n",
       "    </tr>\n",
       "    <tr>\n",
       "      <td>1</td>\n",
       "      <td>AutomateIt.mainPackage</td>\n",
       "      <td>https://lh3.googleusercontent.com/RDo97gBifZ6x...</td>\n",
       "    </tr>\n",
       "    <tr>\n",
       "      <td>2</td>\n",
       "      <td>AutomateIt.mainPackage</td>\n",
       "      <td>https://lh3.googleusercontent.com/CiMiMmtLYVPu...</td>\n",
       "    </tr>\n",
       "    <tr>\n",
       "      <td>3</td>\n",
       "      <td>AutomateIt.mainPackage</td>\n",
       "      <td>https://lh3.googleusercontent.com/GtS_ySii8s34...</td>\n",
       "    </tr>\n",
       "    <tr>\n",
       "      <td>4</td>\n",
       "      <td>AutomateIt.mainPackage</td>\n",
       "      <td>https://lh3.googleusercontent.com/TG7shPkSRkm5...</td>\n",
       "    </tr>\n",
       "  </tbody>\n",
       "</table>\n",
       "</div>"
      ],
      "text/plain": [
       "                        0                                                  1\n",
       "0  AutomateIt.mainPackage  https://lh3.googleusercontent.com/K9y27QwA87js...\n",
       "1  AutomateIt.mainPackage  https://lh3.googleusercontent.com/RDo97gBifZ6x...\n",
       "2  AutomateIt.mainPackage  https://lh3.googleusercontent.com/CiMiMmtLYVPu...\n",
       "3  AutomateIt.mainPackage  https://lh3.googleusercontent.com/GtS_ySii8s34...\n",
       "4  AutomateIt.mainPackage  https://lh3.googleusercontent.com/TG7shPkSRkm5..."
      ]
     },
     "execution_count": 40,
     "metadata": {},
     "output_type": "execute_result"
    }
   ],
   "source": [
    "app_screens.head()"
   ]
  },
  {
   "cell_type": "code",
   "execution_count": 41,
   "metadata": {},
   "outputs": [],
   "source": [
    "# Write to file\n",
    "app_screens.to_csv('Dataset//app_screens.csv', index = False)"
   ]
  },
  {
   "cell_type": "code",
   "execution_count": 44,
   "metadata": {},
   "outputs": [],
   "source": [
    "# Finally, comments dataset\n",
    "comments = []\n",
    "for _, app in app_data.items():\n",
    "    if app['comments'] != None:\n",
    "        for c in app['comments']:\n",
    "            comments.append((app['appId'],c))"
   ]
  },
  {
   "cell_type": "code",
   "execution_count": 46,
   "metadata": {},
   "outputs": [
    {
     "data": {
      "text/plain": [
       "('AutomateIt.mainPackage',\n",
       " \"App has always been a little glitchy, but its usefulness outbalanced that until recently. I've never gotten a response from support from the handful of times I've emailed them about issues over the past few years, but I've generally been able to figure out solutions on my own. Now the app isn't working at all, and since I can't fix it this time, lack of support means the app is now useless.\")"
      ]
     },
     "execution_count": 46,
     "metadata": {},
     "output_type": "execute_result"
    }
   ],
   "source": [
    "comments[0]"
   ]
  },
  {
   "cell_type": "code",
   "execution_count": 47,
   "metadata": {},
   "outputs": [
    {
     "data": {
      "text/plain": [
       "3060403"
      ]
     },
     "execution_count": 47,
     "metadata": {},
     "output_type": "execute_result"
    }
   ],
   "source": [
    "len(comments)"
   ]
  },
  {
   "cell_type": "code",
   "execution_count": 48,
   "metadata": {},
   "outputs": [],
   "source": [
    "# Convert to pandas dataframe\n",
    "app_comments = pd.DataFrame(comments)"
   ]
  },
  {
   "cell_type": "code",
   "execution_count": 49,
   "metadata": {},
   "outputs": [
    {
     "data": {
      "text/html": [
       "<div>\n",
       "<style scoped>\n",
       "    .dataframe tbody tr th:only-of-type {\n",
       "        vertical-align: middle;\n",
       "    }\n",
       "\n",
       "    .dataframe tbody tr th {\n",
       "        vertical-align: top;\n",
       "    }\n",
       "\n",
       "    .dataframe thead th {\n",
       "        text-align: right;\n",
       "    }\n",
       "</style>\n",
       "<table border=\"1\" class=\"dataframe\">\n",
       "  <thead>\n",
       "    <tr style=\"text-align: right;\">\n",
       "      <th></th>\n",
       "      <th>0</th>\n",
       "      <th>1</th>\n",
       "    </tr>\n",
       "  </thead>\n",
       "  <tbody>\n",
       "    <tr>\n",
       "      <td>0</td>\n",
       "      <td>AutomateIt.mainPackage</td>\n",
       "      <td>App has always been a little glitchy, but its ...</td>\n",
       "    </tr>\n",
       "    <tr>\n",
       "      <td>1</td>\n",
       "      <td>AutomateIt.mainPackage</td>\n",
       "      <td>Very limited app but with potential. Simple tr...</td>\n",
       "    </tr>\n",
       "    <tr>\n",
       "      <td>2</td>\n",
       "      <td>AutomateIt.mainPackage</td>\n",
       "      <td>All i want is to mute sound when i am not on m...</td>\n",
       "    </tr>\n",
       "    <tr>\n",
       "      <td>3</td>\n",
       "      <td>AutomateIt.mainPackage</td>\n",
       "      <td>Great potential &amp; I want to love this app, but...</td>\n",
       "    </tr>\n",
       "    <tr>\n",
       "      <td>4</td>\n",
       "      <td>AutomateIt.mainPackage</td>\n",
       "      <td>This app looks so much like \"Automated Device\"...</td>\n",
       "    </tr>\n",
       "  </tbody>\n",
       "</table>\n",
       "</div>"
      ],
      "text/plain": [
       "                        0                                                  1\n",
       "0  AutomateIt.mainPackage  App has always been a little glitchy, but its ...\n",
       "1  AutomateIt.mainPackage  Very limited app but with potential. Simple tr...\n",
       "2  AutomateIt.mainPackage  All i want is to mute sound when i am not on m...\n",
       "3  AutomateIt.mainPackage  Great potential & I want to love this app, but...\n",
       "4  AutomateIt.mainPackage  This app looks so much like \"Automated Device\"..."
      ]
     },
     "execution_count": 49,
     "metadata": {},
     "output_type": "execute_result"
    }
   ],
   "source": [
    "app_comments.head()"
   ]
  },
  {
   "cell_type": "code",
   "execution_count": 50,
   "metadata": {},
   "outputs": [],
   "source": [
    "# Write to file\n",
    "app_comments.to_csv('Dataset//app_comments.csv', index = False)"
   ]
  }
 ],
 "metadata": {
  "kernelspec": {
   "display_name": "Python 3",
   "language": "python",
   "name": "python3"
  },
  "language_info": {
   "codemirror_mode": {
    "name": "ipython",
    "version": 3
   },
   "file_extension": ".py",
   "mimetype": "text/x-python",
   "name": "python",
   "nbconvert_exporter": "python",
   "pygments_lexer": "ipython3",
   "version": "3.7.4"
  }
 },
 "nbformat": 4,
 "nbformat_minor": 2
}
