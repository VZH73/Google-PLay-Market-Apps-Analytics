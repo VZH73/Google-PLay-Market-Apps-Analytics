{
 "cells": [
  {
   "cell_type": "code",
   "execution_count": 9,
   "metadata": {},
   "outputs": [],
   "source": [
    "import requests\n",
    "import re\n",
    "import os \n",
    "from pathlib import Path\n",
    "import pandas as pd\n",
    "from tqdm import tqdm\n"
   ]
  },
  {
   "cell_type": "code",
   "execution_count": 2,
   "metadata": {},
   "outputs": [],
   "source": [
    "app_screens = pd.read_csv('app_screens.csv')"
   ]
  },
  {
   "cell_type": "code",
   "execution_count": null,
   "metadata": {},
   "outputs": [
    {
     "name": "stderr",
     "output_type": "stream",
     "text": [
      "702093it [194:51:34,  1.00it/s]\n",
      "1144767it [77:02:16,  2.13it/s]"
     ]
    }
   ],
   "source": [
    "# Reset old instances of tqdm to make it work properly\n",
    "while len(tqdm._instances) > 0:\n",
    "    tqdm._instances.pop().close()\n",
    "\n",
    "# Run through the list of screenshot file paths and load them into 'Screenshots' folder\n",
    "for index,row in tqdm(app_screens.iterrows()):\n",
    "    fileName = os.path.join('Screenshots', re.split('/',row[1])[-1:][0] + '.png')\n",
    "    f = Path(fileName)\n",
    "    if not f.is_file():\n",
    "        with open(fileName,'wb') as f:\n",
    "            f.write(requests.get(row[1]).content)"
   ]
  }
 ],
 "metadata": {
  "kernelspec": {
   "display_name": "Python 3",
   "language": "python",
   "name": "python3"
  },
  "language_info": {
   "codemirror_mode": {
    "name": "ipython",
    "version": 3
   },
   "file_extension": ".py",
   "mimetype": "text/x-python",
   "name": "python",
   "nbconvert_exporter": "python",
   "pygments_lexer": "ipython3",
   "version": "3.7.4"
  }
 },
 "nbformat": 4,
 "nbformat_minor": 2
}
