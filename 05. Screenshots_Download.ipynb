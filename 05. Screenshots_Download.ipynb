{
 "cells": [
  {
   "cell_type": "code",
   "execution_count": 1,
   "metadata": {},
   "outputs": [],
   "source": [
    "import requests\n",
    "import re\n",
    "import os \n",
    "from pathlib import Path\n",
    "import pandas as pd\n",
    "from tqdm import tqdm\n"
   ]
  },
  {
   "cell_type": "code",
   "execution_count": 11,
   "metadata": {},
   "outputs": [],
   "source": [
    "Data_Folder = 'Data'"
   ]
  },
  {
   "cell_type": "code",
   "execution_count": 13,
   "metadata": {},
   "outputs": [],
   "source": [
    "app_screens = pd.read_csv('{}\\\\{:02d}_app_screens.csv'.format(Data_Folder,6))"
   ]
  },
  {
   "cell_type": "code",
   "execution_count": 6,
   "metadata": {},
   "outputs": [
    {
     "name": "stderr",
     "output_type": "stream",
     "text": [
      "0it [00:00, ?it/s]\n"
     ]
    }
   ],
   "source": [
    "# Reset old instances of tqdm to make it work properly\n",
    "\n",
    "try:\n",
    "    while len(tqdm._instances) > 0:\n",
    "        tqdm._instances.pop().close()\n",
    "except:\n",
    "    pass\n",
    "\n",
    "# Run through the list of screenshot file paths and load them into 'Screenshots' folder\n",
    "for index,row in tqdm(app_screens.iterrows()):\n",
    "    fileName = os.path.join(Data_Folder,'{:02d}_Screenshots'.format(10), re.split('/',row[1])[-1:][0] + '.png')\n",
    "    f = Path(fileName)\n",
    "    if not f.is_file():\n",
    "        with open(fileName,'wb') as f:\n",
    "            f.write(requests.get(row[1]).content)"
   ]
  }
 ],
 "metadata": {
  "kernelspec": {
   "display_name": "Python 3",
   "language": "python",
   "name": "python3"
  },
  "language_info": {
   "codemirror_mode": {
    "name": "ipython",
    "version": 3
   },
   "file_extension": ".py",
   "mimetype": "text/x-python",
   "name": "python",
   "nbconvert_exporter": "python",
   "pygments_lexer": "ipython3",
   "version": "3.7.4"
  }
 },
 "nbformat": 4,
 "nbformat_minor": 2
}
